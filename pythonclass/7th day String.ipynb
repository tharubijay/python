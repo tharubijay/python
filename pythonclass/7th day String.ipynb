{
 "cells": [
  {
   "cell_type": "code",
   "execution_count": 2,
   "id": "1a6c37b7",
   "metadata": {},
   "outputs": [],
   "source": [
    "# string"
   ]
  },
  {
   "cell_type": "code",
   "execution_count": 3,
   "id": "09076aef",
   "metadata": {},
   "outputs": [
    {
     "name": "stdout",
     "output_type": "stream",
     "text": [
      "Hello Hello Hello\n",
      "Hello <class 'str'>\n"
     ]
    }
   ],
   "source": [
    "a = 'Hello'\n",
    "b = \"Hello\"\n",
    "c = '''Hello'''\n",
    "print(a,b,c)\n",
    "print(a,type(a))"
   ]
  },
  {
   "cell_type": "code",
   "execution_count": 4,
   "id": "ad23071a",
   "metadata": {},
   "outputs": [
    {
     "name": "stdout",
     "output_type": "stream",
     "text": [
      "HelloWorld\n"
     ]
    }
   ],
   "source": [
    "a = \"Hello\"\n",
    "b = \"World\"\n",
    "c = a+b\n",
    "print(c)"
   ]
  },
  {
   "cell_type": "code",
   "execution_count": 5,
   "id": "95fcdfa6",
   "metadata": {},
   "outputs": [
    {
     "data": {
      "text/plain": [
       "10"
      ]
     },
     "execution_count": 5,
     "metadata": {},
     "output_type": "execute_result"
    }
   ],
   "source": [
    "a = int('10')\n",
    "a"
   ]
  },
  {
   "cell_type": "code",
   "execution_count": 6,
   "id": "4bfe77ef",
   "metadata": {},
   "outputs": [
    {
     "data": {
      "text/plain": [
       "'H'"
      ]
     },
     "execution_count": 6,
     "metadata": {},
     "output_type": "execute_result"
    }
   ],
   "source": [
    "a = \"Hello World\"  #index wise print\n",
    "a[0]"
   ]
  },
  {
   "cell_type": "code",
   "execution_count": 7,
   "id": "fbbf015b",
   "metadata": {},
   "outputs": [
    {
     "name": "stdout",
     "output_type": "stream",
     "text": [
      "Hello\n"
     ]
    }
   ],
   "source": [
    "a = \"Hello World\"\n",
    "b = a[0:5]\n",
    "print(b)"
   ]
  },
  {
   "cell_type": "code",
   "execution_count": 8,
   "id": "09f893f4",
   "metadata": {},
   "outputs": [
    {
     "name": "stdout",
     "output_type": "stream",
     "text": [
      "HloWr\n"
     ]
    }
   ],
   "source": [
    "a = \"Hello World\"\n",
    "b = a[0:10:2]\n",
    "print(b)"
   ]
  },
  {
   "cell_type": "code",
   "execution_count": 9,
   "id": "4e6da97a",
   "metadata": {},
   "outputs": [
    {
     "data": {
      "text/plain": [
       "'dlroW olle'"
      ]
     },
     "execution_count": 9,
     "metadata": {},
     "output_type": "execute_result"
    }
   ],
   "source": [
    "a = \"Hello World\"\n",
    "b = a[10:0:-1]\n",
    "b"
   ]
  },
  {
   "cell_type": "code",
   "execution_count": 10,
   "id": "11c29360",
   "metadata": {},
   "outputs": [
    {
     "data": {
      "text/plain": [
       "'dlroW olle'"
      ]
     },
     "execution_count": 10,
     "metadata": {},
     "output_type": "execute_result"
    }
   ],
   "source": [
    "a = \"Hello World\"\n",
    "b = a[:0:-1]\n",
    "b"
   ]
  },
  {
   "cell_type": "code",
   "execution_count": 11,
   "id": "555202b7",
   "metadata": {},
   "outputs": [
    {
     "data": {
      "text/plain": [
       "'dlroW olleH'"
      ]
     },
     "execution_count": 11,
     "metadata": {},
     "output_type": "execute_result"
    }
   ],
   "source": [
    "a = \"Hello World\"\n",
    "b = a[::-1]\n",
    "b"
   ]
  },
  {
   "cell_type": "code",
   "execution_count": null,
   "id": "d9886236",
   "metadata": {},
   "outputs": [],
   "source": []
  },
  {
   "cell_type": "code",
   "execution_count": 12,
   "id": "9648114b",
   "metadata": {},
   "outputs": [
    {
     "name": "stdout",
     "output_type": "stream",
     "text": [
      "Hello my name is Bijay. I am 23.\n"
     ]
    }
   ],
   "source": [
    "# string formatting\n",
    "\n",
    "name = \"Bijay\"\n",
    "age = 23\n",
    "data = f\"Hello my name is {name}. I am {23}.\"\n",
    "print(data)"
   ]
  },
  {
   "cell_type": "code",
   "execution_count": 13,
   "id": "817ef69d",
   "metadata": {},
   "outputs": [
    {
     "name": "stdout",
     "output_type": "stream",
     "text": [
      "enter namebijay\n",
      "Enter age 23\n",
      "Enter Addressmayadevi-2\n"
     ]
    },
    {
     "data": {
      "text/plain": [
       "'Hello my name is bijay. I am 23. I am from mayadevi-2.'"
      ]
     },
     "execution_count": 13,
     "metadata": {},
     "output_type": "execute_result"
    }
   ],
   "source": [
    "name = input(\"enter name\")\n",
    "age = int(input(\"Enter age \"))\n",
    "add = input(\"Enter Address\")\n",
    "data = f\"Hello my name is {name}. I am {age}. I am from {add}.\"\n",
    "data"
   ]
  },
  {
   "cell_type": "code",
   "execution_count": 14,
   "id": "389537f0",
   "metadata": {},
   "outputs": [
    {
     "name": "stdout",
     "output_type": "stream",
     "text": [
      "Enter n = 2\n",
      "Enter name apple\n",
      "enter price 200\n",
      "Enter quantity5\n",
      "Enter name banana\n",
      "enter price 160\n",
      "Enter quantity12\n",
      "apple 200 5 1000 \n",
      "banana 160 12 1920 \n",
      "\n"
     ]
    }
   ],
   "source": [
    "s = str()\n",
    "n = int(input(\"Enter n = \"))\n",
    "for i in range(n):\n",
    "    name = input(\"Enter name \")\n",
    "    price = int(input(\"enter price \"))\n",
    "    quantity = int(input(\"Enter quantity\"))\n",
    "    total = price *quantity\n",
    "    bill = f\"{name} {price} {quantity} {total} \\n\"  # \\n --> next line\n",
    "    s = s+bill\n",
    "print(s)\n",
    "    "
   ]
  },
  {
   "cell_type": "code",
   "execution_count": 15,
   "id": "38b18bb4",
   "metadata": {},
   "outputs": [
    {
     "name": "stdout",
     "output_type": "stream",
     "text": [
      "r\n",
      "a\n",
      "m\n",
      " \n",
      "H\n",
      "a\n",
      "r\n",
      "i\n",
      " \n",
      "G\n",
      "i\n",
      "t\n",
      "a\n"
     ]
    }
   ],
   "source": [
    "s = \"ram Hari Gita\"\n",
    "for i in s:\n",
    "    print(i)"
   ]
  },
  {
   "cell_type": "code",
   "execution_count": 16,
   "id": "8849c06c",
   "metadata": {},
   "outputs": [
    {
     "name": "stdout",
     "output_type": "stream",
     "text": [
      "ram Hari Gita"
     ]
    }
   ],
   "source": [
    "s = \"ram Hari Gita\"\n",
    "for i in s:\n",
    "    print(i, end =\"\")  # end = \"\"--> horizontally print"
   ]
  },
  {
   "cell_type": "code",
   "execution_count": 17,
   "id": "6ceb31f8",
   "metadata": {},
   "outputs": [
    {
     "name": "stdout",
     "output_type": "stream",
     "text": [
      "Yes\n"
     ]
    }
   ],
   "source": [
    "s = \"ram Hari Gita\"\n",
    "if \"ram\" in s:\n",
    "    print(\"Yes\")\n",
    "else:\n",
    "    print(\"No\")\n",
    "    "
   ]
  },
  {
   "cell_type": "code",
   "execution_count": 18,
   "id": "aaa9f79a",
   "metadata": {},
   "outputs": [
    {
     "name": "stdout",
     "output_type": "stream",
     "text": [
      "Enter s = ram\n",
      "Yes\n",
      "1\n"
     ]
    }
   ],
   "source": [
    "s = \"ram Hari Gita Ramesh\" \n",
    "search = input(\"Enter s = \")\n",
    "if search in s:\n",
    "    print(\"Yes\")\n",
    "    print(s.count(search))   #sequence of character print\n",
    "else:\n",
    "    print(\"No\")\n"
   ]
  },
  {
   "cell_type": "code",
   "execution_count": 19,
   "id": "5bcc502e",
   "metadata": {},
   "outputs": [],
   "source": [
    "# .lower()\n",
    "# .upper()\n",
    "# .count()\n",
    "# .replace() \n",
    "# .split()  ---> convert into list\n",
    "# .title()  --> first letter capital"
   ]
  },
  {
   "cell_type": "code",
   "execution_count": 20,
   "id": "61b82561",
   "metadata": {},
   "outputs": [
    {
     "name": "stdout",
     "output_type": "stream",
     "text": [
      "RAM HARI GITA RAMESH\n",
      "Ram Hari Gita Ramesh\n"
     ]
    }
   ],
   "source": [
    "\n",
    "s = \"Ram Hari Gita Ramesh\"\n",
    "print(s.upper())\n",
    "print(s)"
   ]
  },
  {
   "cell_type": "code",
   "execution_count": 21,
   "id": "5e306f55",
   "metadata": {},
   "outputs": [
    {
     "name": "stdout",
     "output_type": "stream",
     "text": [
      "ram hari gita ramesh\n",
      "ram Hari Gita Ramesh\n"
     ]
    }
   ],
   "source": [
    "s = \"ram Hari Gita Ramesh\"\n",
    "print(s.lower())\n",
    "print(s)"
   ]
  },
  {
   "cell_type": "code",
   "execution_count": 22,
   "id": "8e43b866",
   "metadata": {},
   "outputs": [
    {
     "data": {
      "text/plain": [
       "'Ram Hari Sita Ramesh'"
      ]
     },
     "execution_count": 22,
     "metadata": {},
     "output_type": "execute_result"
    }
   ],
   "source": [
    "a = 'ram hari sita ramesh'\n",
    "a.title()"
   ]
  },
  {
   "cell_type": "code",
   "execution_count": 23,
   "id": "703349c9",
   "metadata": {},
   "outputs": [
    {
     "name": "stdout",
     "output_type": "stream",
     "text": [
      "ram hari gita ramesh\n"
     ]
    }
   ],
   "source": [
    "s = \"ram Hari Gita Ramesh\"\n",
    "s = s.lower()\n",
    "print(s)"
   ]
  },
  {
   "cell_type": "code",
   "execution_count": 24,
   "id": "c952a598",
   "metadata": {},
   "outputs": [
    {
     "name": "stdout",
     "output_type": "stream",
     "text": [
      "Enter s = ram\n",
      "Yes\n",
      "2\n"
     ]
    }
   ],
   "source": [
    "#sequence of character print\n",
    "#.count()\n",
    "s = \"ram Hari Gita Ramesh\" .lower()\n",
    "search = input(\"Enter s = \") .lower()\n",
    "if search in s:\n",
    "    print(\"Yes\")\n",
    "    print(s.count(search))\n",
    "else:\n",
    "    print(\"No\")\n"
   ]
  },
  {
   "cell_type": "code",
   "execution_count": 25,
   "id": "8f5a0da1",
   "metadata": {},
   "outputs": [
    {
     "data": {
      "text/plain": [
       "'Ram Hari Sita Ramesh'"
      ]
     },
     "execution_count": 25,
     "metadata": {},
     "output_type": "execute_result"
    }
   ],
   "source": [
    "# .replace()\n",
    "\n",
    "s = \"Ram Hari Gita Ramesh\"\n",
    "s = s.replace('Gita', 'Sita')\n",
    "s"
   ]
  },
  {
   "cell_type": "code",
   "execution_count": 26,
   "id": "7e971d49",
   "metadata": {},
   "outputs": [
    {
     "data": {
      "text/plain": [
       "'Ram Hari  Ramesh'"
      ]
     },
     "execution_count": 26,
     "metadata": {},
     "output_type": "execute_result"
    }
   ],
   "source": [
    "s = \"Ram Hari Gita Ramesh\"\n",
    "s = s.replace('Gita', '')\n",
    "s"
   ]
  },
  {
   "cell_type": "code",
   "execution_count": 27,
   "id": "ac53c0fd",
   "metadata": {},
   "outputs": [
    {
     "data": {
      "text/plain": [
       "['ram', 'Hari', 'Gita', 'Ramesh']"
      ]
     },
     "execution_count": 27,
     "metadata": {},
     "output_type": "execute_result"
    }
   ],
   "source": [
    "# .split()\n",
    "s = \"ram Hari Gita Ramesh\"\n",
    "s.split()"
   ]
  },
  {
   "cell_type": "code",
   "execution_count": 28,
   "id": "e637cde0",
   "metadata": {},
   "outputs": [],
   "source": [
    "# practise"
   ]
  },
  {
   "cell_type": "code",
   "execution_count": null,
   "id": "79496745",
   "metadata": {},
   "outputs": [],
   "source": []
  },
  {
   "cell_type": "code",
   "execution_count": null,
   "id": "b72ce253",
   "metadata": {},
   "outputs": [],
   "source": []
  }
 ],
 "metadata": {
  "kernelspec": {
   "display_name": "Python 3 (ipykernel)",
   "language": "python",
   "name": "python3"
  },
  "language_info": {
   "codemirror_mode": {
    "name": "ipython",
    "version": 3
   },
   "file_extension": ".py",
   "mimetype": "text/x-python",
   "name": "python",
   "nbconvert_exporter": "python",
   "pygments_lexer": "ipython3",
   "version": "3.9.12"
  }
 },
 "nbformat": 4,
 "nbformat_minor": 5
}
