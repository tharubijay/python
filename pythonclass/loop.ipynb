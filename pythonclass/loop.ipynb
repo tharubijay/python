{
 "cells": [
  {
   "cell_type": "code",
   "execution_count": null,
   "id": "bddf6fb9",
   "metadata": {},
   "outputs": [],
   "source": [
    "# loop\n",
    "# for loop \n",
    "# while loop"
   ]
  },
  {
   "cell_type": "code",
   "execution_count": 1,
   "id": "bccc67a5",
   "metadata": {},
   "outputs": [],
   "source": [
    "# for loop\n",
    "# range(5)    (0,1,2,3,4) \n",
    "# range(1,5) (1,2,3,4)\n",
    "# range(1,5,2) (1,3)"
   ]
  },
  {
   "cell_type": "code",
   "execution_count": 2,
   "id": "bd87602c",
   "metadata": {},
   "outputs": [
    {
     "name": "stdout",
     "output_type": "stream",
     "text": [
      "0\n",
      "1\n",
      "2\n",
      "3\n",
      "4\n"
     ]
    }
   ],
   "source": [
    "for i in range(5):\n",
    "    print(i)"
   ]
  },
  {
   "cell_type": "code",
   "execution_count": null,
   "id": "2311ea31",
   "metadata": {},
   "outputs": [],
   "source": []
  }
 ],
 "metadata": {
  "kernelspec": {
   "display_name": "Python 3 (ipykernel)",
   "language": "python",
   "name": "python3"
  },
  "language_info": {
   "codemirror_mode": {
    "name": "ipython",
    "version": 3
   },
   "file_extension": ".py",
   "mimetype": "text/x-python",
   "name": "python",
   "nbconvert_exporter": "python",
   "pygments_lexer": "ipython3",
   "version": "3.9.12"
  }
 },
 "nbformat": 4,
 "nbformat_minor": 5
}
