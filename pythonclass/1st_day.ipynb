{
 "cells": [
  {
   "cell_type": "code",
   "execution_count": 5,
   "id": "6e48ff77",
   "metadata": {},
   "outputs": [
    {
     "name": "stdout",
     "output_type": "stream",
     "text": [
      "10\n",
      "10.5\n",
      "Hello World\n",
      "True\n"
     ]
    }
   ],
   "source": [
    "a = 10\n",
    "b = 10.5\n",
    "c = \"Hello World\"\n",
    "d = True\n",
    "print(a)\n",
    "print(b)\n",
    "print(c)\n",
    "print(d)\n"
   ]
  },
  {
   "cell_type": "code",
   "execution_count": null,
   "id": "77080484",
   "metadata": {},
   "outputs": [],
   "source": []
  },
  {
   "cell_type": "code",
   "execution_count": 7,
   "id": "087db6ef",
   "metadata": {},
   "outputs": [
    {
     "name": "stdout",
     "output_type": "stream",
     "text": [
      "10 <class 'int'>\n",
      "10.5 <class 'float'>\n",
      "Hello World <class 'str'>\n",
      "True <class 'bool'>\n"
     ]
    }
   ],
   "source": [
    "print(a,type(a))\n",
    "print(b,type(b))\n",
    "print(c,type(c))\n",
    "print(d,type(d))"
   ]
  },
  {
   "cell_type": "code",
   "execution_count": 8,
   "id": "37bde1db",
   "metadata": {},
   "outputs": [
    {
     "name": "stdout",
     "output_type": "stream",
     "text": [
      "10\n"
     ]
    }
   ],
   "source": [
    "# Strings\n",
    "# c = 'Hello World'\n",
    "\n",
    "# c = \"Hello World\"\n",
    "\n",
    "# c = '''Hello World'''\n",
    "\n",
    "\n",
    "a = ('10')\n",
    "print(a)\n"
   ]
  },
  {
   "cell_type": "code",
   "execution_count": 9,
   "id": "07516133",
   "metadata": {},
   "outputs": [
    {
     "name": "stdout",
     "output_type": "stream",
     "text": [
      "53\n"
     ]
    }
   ],
   "source": [
    "# concatenation\n",
    "a = '5'\n",
    "b = '3'\n",
    "c = a+b  # convert into integer    c = int(a)+int(b)\n",
    "print(c)"
   ]
  },
  {
   "cell_type": "code",
   "execution_count": 11,
   "id": "fa21b026",
   "metadata": {},
   "outputs": [
    {
     "name": "stdout",
     "output_type": "stream",
     "text": [
      "30\n"
     ]
    }
   ],
   "source": [
    "# Operators(+,-,*,/,%,**,//)\n",
    "a = 20\n",
    "b =10\n",
    "c=a+b\n",
    "print(c)\n"
   ]
  },
  {
   "cell_type": "code",
   "execution_count": 2,
   "id": "cdcb1dbf",
   "metadata": {},
   "outputs": [
    {
     "name": "stdout",
     "output_type": "stream",
     "text": [
      "1\n"
     ]
    }
   ],
   "source": [
    "# % modulas\n",
    "a = 13\n",
    "b = 4\n",
    "c = a%b  # remainder\n",
    "print(c)"
   ]
  },
  {
   "cell_type": "code",
   "execution_count": 12,
   "id": "5904c11b",
   "metadata": {},
   "outputs": [
    {
     "name": "stdout",
     "output_type": "stream",
     "text": [
      "-10\n"
     ]
    }
   ],
   "source": [
    "a = 10\n",
    "b =20\n",
    "c=a-b\n",
    "print(c)\n"
   ]
  },
  {
   "cell_type": "code",
   "execution_count": 13,
   "id": "44acf43d",
   "metadata": {},
   "outputs": [
    {
     "name": "stdout",
     "output_type": "stream",
     "text": [
      "200\n"
     ]
    }
   ],
   "source": [
    "a = 10\n",
    "b =20\n",
    "c=a*b\n",
    "print(c)"
   ]
  },
  {
   "cell_type": "code",
   "execution_count": 3,
   "id": "84425f88",
   "metadata": {},
   "outputs": [
    {
     "name": "stdout",
     "output_type": "stream",
     "text": [
      "2.2\n"
     ]
    }
   ],
   "source": [
    "a = 11\n",
    "b =5\n",
    "c=a/b\n",
    "print(c)"
   ]
  },
  {
   "cell_type": "code",
   "execution_count": 5,
   "id": "0ee232b4",
   "metadata": {},
   "outputs": [
    {
     "name": "stdout",
     "output_type": "stream",
     "text": [
      "5\n"
     ]
    }
   ],
   "source": [
    "a = 27\n",
    "b = 5\n",
    "c = a//b\n",
    "print(c)"
   ]
  },
  {
   "cell_type": "code",
   "execution_count": 19,
   "id": "39990754",
   "metadata": {},
   "outputs": [
    {
     "name": "stdout",
     "output_type": "stream",
     "text": [
      "32\n"
     ]
    }
   ],
   "source": [
    "# ** power\n",
    "a = 2\n",
    "b = 5\n",
    "c = a**b\n",
    "print(c)"
   ]
  },
  {
   "cell_type": "code",
   "execution_count": 21,
   "id": "e842f3cd",
   "metadata": {},
   "outputs": [
    {
     "name": "stdout",
     "output_type": "stream",
     "text": [
      "78.5\n"
     ]
    }
   ],
   "source": [
    "r = 5\n",
    "a = 3.14*r*r\n",
    "print(a)"
   ]
  },
  {
   "cell_type": "code",
   "execution_count": null,
   "id": "88548bb1",
   "metadata": {},
   "outputs": [],
   "source": [
    "# Type casting / Data Type Conversion"
   ]
  },
  {
   "cell_type": "code",
   "execution_count": 31,
   "id": "3f9491e8",
   "metadata": {},
   "outputs": [
    {
     "name": "stdout",
     "output_type": "stream",
     "text": [
      "10\n",
      "<class 'int'>\n"
     ]
    }
   ],
   "source": [
    "a = \"10\"\n",
    "b = int(a)\n",
    "print(a)\n",
    "print(type(b))"
   ]
  },
  {
   "cell_type": "code",
   "execution_count": 5,
   "id": "e6ff20ce",
   "metadata": {},
   "outputs": [
    {
     "name": "stdout",
     "output_type": "stream",
     "text": [
      "10.5\n",
      "10.5 <class 'str'>\n"
     ]
    }
   ],
   "source": [
    "a = 10.5\n",
    "b = str(a)\n",
    "print(b)\n",
    "print(a,type(b))"
   ]
  },
  {
   "cell_type": "code",
   "execution_count": 8,
   "id": "b1fdbb74",
   "metadata": {},
   "outputs": [
    {
     "name": "stdout",
     "output_type": "stream",
     "text": [
      "10.0\n",
      "<class 'float'>\n"
     ]
    }
   ],
   "source": [
    "a = \"10\"\n",
    "b = float(a)\n",
    "print(b)\n",
    "print(type(b))"
   ]
  },
  {
   "cell_type": "code",
   "execution_count": null,
   "id": "3ef4cfdb",
   "metadata": {},
   "outputs": [],
   "source": [
    "# Basic I/O"
   ]
  },
  {
   "cell_type": "code",
   "execution_count": 6,
   "id": "8fefc471",
   "metadata": {},
   "outputs": [
    {
     "name": "stdout",
     "output_type": "stream",
     "text": [
      "10\n",
      "10\n"
     ]
    }
   ],
   "source": [
    "a = input()\n",
    "print(a)"
   ]
  },
  {
   "cell_type": "code",
   "execution_count": 33,
   "id": "49e81c01",
   "metadata": {},
   "outputs": [
    {
     "name": "stdout",
     "output_type": "stream",
     "text": [
      "Enter the value of a = 5\n",
      "Enter the value of b = 10\n",
      "510\n"
     ]
    }
   ],
   "source": [
    "a = input(\"Enter the value of a = \")\n",
    "b = input(\"Enter the value of b = \")\n",
    "c = a+b\n",
    "print(c)\n"
   ]
  },
  {
   "cell_type": "code",
   "execution_count": 34,
   "id": "f3eae4ad",
   "metadata": {},
   "outputs": [
    {
     "name": "stdout",
     "output_type": "stream",
     "text": [
      "Enter the value of a = 10\n",
      "Enter the value of b = 5\n",
      "15\n"
     ]
    }
   ],
   "source": [
    "a =int(input(\"Enter the value of a = \"))\n",
    "b = int(input(\"Enter the value of b = \"))\n",
    "c = a+b\n",
    "print(c)"
   ]
  },
  {
   "cell_type": "code",
   "execution_count": 38,
   "id": "c96e4d4f",
   "metadata": {},
   "outputs": [
    {
     "name": "stdout",
     "output_type": "stream",
     "text": [
      "Enter the value of a = 5\n",
      "Enter the value of b = 5\n",
      "10\n"
     ]
    }
   ],
   "source": [
    "a = input(\"Enter the value of a = \")\n",
    "b = input(\"Enter the value of b = \")\n",
    "c = int(a)+int(b)\n",
    "print(c)"
   ]
  },
  {
   "cell_type": "code",
   "execution_count": 41,
   "id": "7ebb2032",
   "metadata": {},
   "outputs": [
    {
     "name": "stdout",
     "output_type": "stream",
     "text": [
      "Enter the value of p = 2000\n",
      "Enter the value of t = 3.5\n",
      "Enter the value of r = 10.5\n",
      "The value of i =  735.0\n"
     ]
    }
   ],
   "source": [
    "p = float(input(\"Enter the value of p = \"))\n",
    "t = float(input(\"Enter the value of t = \"))\n",
    "r = float(input(\"Enter the value of r = \"))\n",
    "i = p*t*r/100\n",
    "print(\"The value of i = \",i)"
   ]
  },
  {
   "cell_type": "code",
   "execution_count": 1,
   "id": "a5bb869f",
   "metadata": {},
   "outputs": [],
   "source": [
    "# google classroom, dterusy"
   ]
  },
  {
   "cell_type": "code",
   "execution_count": 1,
   "id": "2299de9e",
   "metadata": {},
   "outputs": [
    {
     "name": "stdout",
     "output_type": "stream",
     "text": [
      "0\n",
      "1\n",
      "2\n",
      "3\n",
      "4\n"
     ]
    }
   ],
   "source": [
    "for i in range(5):\n",
    "    print(i)"
   ]
  },
  {
   "cell_type": "code",
   "execution_count": 11,
   "id": "a65d2798",
   "metadata": {},
   "outputs": [
    {
     "name": "stdout",
     "output_type": "stream",
     "text": [
      "0 Hello Bijay\n",
      "1 Hello Bijay\n",
      "2 Hello Bijay\n",
      "3 Hello Bijay\n",
      "4 Hello Bijay\n",
      "5 Hello Bijay\n",
      "6 Hello Bijay\n",
      "7 Hello Bijay\n",
      "8 Hello Bijay\n",
      "9 Hello Bijay\n"
     ]
    }
   ],
   "source": [
    "a = 10\n",
    "for i in range(a):\n",
    "    print(i,\"Hello Bijay\")"
   ]
  },
  {
   "cell_type": "code",
   "execution_count": null,
   "id": "998e4337",
   "metadata": {},
   "outputs": [],
   "source": []
  }
 ],
 "metadata": {
  "kernelspec": {
   "display_name": "Python 3 (ipykernel)",
   "language": "python",
   "name": "python3"
  },
  "language_info": {
   "codemirror_mode": {
    "name": "ipython",
    "version": 3
   },
   "file_extension": ".py",
   "mimetype": "text/x-python",
   "name": "python",
   "nbconvert_exporter": "python",
   "pygments_lexer": "ipython3",
   "version": "3.9.12"
  }
 },
 "nbformat": 4,
 "nbformat_minor": 5
}
