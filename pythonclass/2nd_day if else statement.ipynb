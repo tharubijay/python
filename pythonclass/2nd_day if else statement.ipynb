{
 "cells": [
  {
   "cell_type": "code",
   "execution_count": 2,
   "id": "975f65f1",
   "metadata": {},
   "outputs": [],
   "source": [
    "# if ,elif,else statement\n",
    "# if <condition>:\n",
    "#     <operation>\n",
    "# elif<condition>:\n",
    "#     <operation>\n",
    "# else<condition>:\n",
    "#     <operation>\n"
   ]
  },
  {
   "cell_type": "code",
   "execution_count": 1,
   "id": "01d1f22a",
   "metadata": {},
   "outputs": [
    {
     "name": "stdout",
     "output_type": "stream",
     "text": [
      "Enter a = 9\n",
      "9 is odd\n"
     ]
    }
   ],
   "source": [
    "a = int(input(\"Enter a = \"))\n",
    "if a%2==0:\n",
    "    print(a,\"is even\")\n",
    "else:\n",
    "    print(a,\"is odd\")\n"
   ]
  },
  {
   "cell_type": "code",
   "execution_count": 3,
   "id": "b8203db1",
   "metadata": {},
   "outputs": [
    {
     "name": "stdout",
     "output_type": "stream",
     "text": [
      "Enter the value of  a : 7\n",
      "7 is even number\n"
     ]
    }
   ],
   "source": [
    "a = int(input(\"Enter the value of  a : \"))\n",
    "if a%2 == .0:\n",
    "    print(a,\"is odd number\")\n",
    "else:\n",
    "    print(a,\"is even number\")"
   ]
  },
  {
   "cell_type": "code",
   "execution_count": 5,
   "id": "446a9437",
   "metadata": {},
   "outputs": [
    {
     "name": "stdout",
     "output_type": "stream",
     "text": [
      "Enter the value of a: 5\n",
      "Enter the value of b: 2\n",
      "5 is greater than b\n"
     ]
    }
   ],
   "source": [
    "a = int(input(\"Enter the value of a: \"))\n",
    "b = int(input(\"Enter the value of b: \"))\n",
    "if a>b:\n",
    "    print(a,\"is greater than b\")\n",
    "elif b>a:\n",
    "        print(b,\"is greater than a\")\n",
    "else:\n",
    "    print(\"Both are equal\")"
   ]
  },
  {
   "cell_type": "code",
   "execution_count": 7,
   "id": "c7014f61",
   "metadata": {},
   "outputs": [
    {
     "name": "stdout",
     "output_type": "stream",
     "text": [
      "Enter a = 10\n",
      "Enter b = 3\n",
      "10 is greater\n"
     ]
    }
   ],
   "source": [
    "a = int(input(\"Enter a = \"))\n",
    "b = int(input(\"Enter b = \"))\n",
    "\n",
    "if a>b:\n",
    "    print(a,\"is greater\")\n",
    "elif b>a:\n",
    "    print(b,\"is greater\")\n",
    "else:\n",
    "    print(\"Both are equal\")"
   ]
  },
  {
   "cell_type": "code",
   "execution_count": 25,
   "id": "062fb9dd",
   "metadata": {},
   "outputs": [
    {
     "name": "stdout",
     "output_type": "stream",
     "text": [
      "Enter The Value of First Number: 10\n",
      "Enter The Value of Second Number: 5\n",
      "Enter Operator: + - * / : +\n",
      "15\n"
     ]
    }
   ],
   "source": [
    "# calculator\n",
    "\n",
    "First_number = int(input(\"Enter The Value of First Number: \"))\n",
    "Second_number = int(input(\"Enter The Value of Second Number: \"))\n",
    "Operator = input(\"Enter Operator: + - * / : \")\n",
    "\n",
    "if Operator == '+':\n",
    "    print(a+b)\n",
    "elif Operator == '-':\n",
    "    print(a-b)\n",
    "elif Operator == '*':\n",
    "    print(a*b)\n",
    "elif Operator == '/':\n",
    "    print(a/b)\n",
    "else:\n",
    "    print(\"Invalid Operator\")\n",
    "\n"
   ]
  },
  {
   "cell_type": "code",
   "execution_count": 27,
   "id": "0c7f3a28",
   "metadata": {},
   "outputs": [
    {
     "name": "stdout",
     "output_type": "stream",
     "text": [
      "Enter the value of a = 45\n",
      "Enter + - * / -\n",
      "Enter the value of a = 5\n",
      "40\n"
     ]
    }
   ],
   "source": [
    "# calculator\n",
    "a = int(input(\"Enter the value of a = \"))\n",
    "o = input(\"Enter + - * / \")\n",
    "b = int(input(\"Enter the value of a = \"))\n",
    "\n",
    "if o == '+':\n",
    "    print(a+b)\n",
    "elif o == '-':   \n",
    "    print(a-b)\n",
    "elif o == '*':\n",
    "    print(a*b)\n",
    "elif o == '/':\n",
    "    print(a/b)\n",
    "else:\n",
    "    print(\"Invalid operator\")\n",
    "    "
   ]
  },
  {
   "cell_type": "code",
   "execution_count": 16,
   "id": "8bea1c97",
   "metadata": {},
   "outputs": [],
   "source": [
    "# Logical Operator \n",
    "# and & or |"
   ]
  },
  {
   "cell_type": "code",
   "execution_count": 15,
   "id": "e7852d42",
   "metadata": {},
   "outputs": [
    {
     "data": {
      "text/plain": [
       "True"
      ]
     },
     "execution_count": 15,
     "metadata": {},
     "output_type": "execute_result"
    }
   ],
   "source": [
    "# and & or |\n",
    "True and True"
   ]
  },
  {
   "cell_type": "code",
   "execution_count": 17,
   "id": "0f99aa14",
   "metadata": {},
   "outputs": [
    {
     "data": {
      "text/plain": [
       "True"
      ]
     },
     "execution_count": 17,
     "metadata": {},
     "output_type": "execute_result"
    }
   ],
   "source": [
    "# or |\n",
    "False or True"
   ]
  },
  {
   "cell_type": "code",
   "execution_count": 19,
   "id": "f4b1b58c",
   "metadata": {},
   "outputs": [
    {
     "name": "stdout",
     "output_type": "stream",
     "text": [
      "Enter the value of a = 10\n",
      "Enter + - * / /\n",
      "Enter the value of a = 2\n",
      "5.0\n"
     ]
    }
   ],
   "source": [
    "# calculator using and & operator\n",
    "a = int(input(\"Enter the value of a = \"))\n",
    "o = input(\"Enter + - * / \")\n",
    "b = int(input(\"Enter the value of a = \"))\n",
    "\n",
    "if o == '+':\n",
    "    print(a+b)\n",
    "elif o == '-':\n",
    "    print(a-b)\n",
    "elif o == '*':\n",
    "    print(a*b)\n",
    "elif (o == '/') and (b !=0): #and operator\n",
    "    print(a/b)\n",
    "elif (o == '/') and (b ==0):\n",
    "    print(\"The value of b is cannot be zero\")\n",
    "else:\n",
    "    print(\"Invalid operator\")\n",
    "    "
   ]
  },
  {
   "cell_type": "code",
   "execution_count": 4,
   "id": "dd5e6136",
   "metadata": {},
   "outputs": [
    {
     "name": "stdout",
     "output_type": "stream",
     "text": [
      "Enter your marks = 80\n",
      "Enter your marks = 90\n",
      "Enter your marks = 70\n",
      "Enter your marks = 80\n",
      "Enter your marks = 90\n",
      "Grade A\n",
      "Total marks is:  410\n",
      "Your per is:  82.0\n"
     ]
    }
   ],
   "source": [
    "English = int(input(\"Enter your marks = \"))\n",
    "Nepali = int(input(\"Enter your marks = \"))\n",
    "physics = int(input(\"Enter your marks = \"))\n",
    "chemistry = int(input(\"Enter your marks = \"))\n",
    "Math = int(input(\"Enter your marks = \"))\n",
    "\n",
    "Total = English+physics+chemistry+Nepali+Math\n",
    "per = Total/5\n",
    "if per>80 or per ==80:\n",
    "    print(\"Grade A\")\n",
    "elif per>60 or per ==60:\n",
    "    print(\"Grade B\")\n",
    "elif per>45 or per ==45:\n",
    "    print(\"Grade C\")\n",
    "else:\n",
    "    print(\"Grade F\")\n",
    "print(\"Total marks is: \",Total)\n",
    "print(\"Your per is: \",per)\n"
   ]
  },
  {
   "cell_type": "code",
   "execution_count": null,
   "id": "f6c32d85",
   "metadata": {},
   "outputs": [],
   "source": [
    "# Nested If\n",
    "# if <condition>:\n",
    "#     <condition>\n",
    "# elif <condition>:\n",
    "#     <condition>\n",
    "# else <condition>:\n",
    "#     <condition>"
   ]
  },
  {
   "cell_type": "code",
   "execution_count": 1,
   "id": "b258283d",
   "metadata": {},
   "outputs": [
    {
     "name": "stdout",
     "output_type": "stream",
     "text": [
      "Enter a = 6\n",
      "6 is odd\n"
     ]
    }
   ],
   "source": [
    "a = int(input(\"Enter a = \"))\n",
    "if a%4==0:\n",
    "    print(a,\"is even\")\n",
    "else:\n",
    "    print(a,\"is odd\")"
   ]
  },
  {
   "cell_type": "code",
   "execution_count": 1,
   "id": "28a4b8b2",
   "metadata": {},
   "outputs": [
    {
     "name": "stdout",
     "output_type": "stream",
     "text": [
      "Enter the value of a = 10\n",
      "Enter operator  + - * / /\n",
      "Enter the value of a = 0\n",
      "The value of b cannot be zero\n"
     ]
    }
   ],
   "source": [
    "a = int(input(\"Enter the value of first number = \"))\n",
    "b = int(input(\"Enter the value of second number = \"))\n",
    "o = input(\"Enter operator  + - * / \")\n",
    "\n",
    "if o == '+':\n",
    "    print(a+b)\n",
    "elif o == '-':\n",
    "    print(a-b)\n",
    "elif o == '*':\n",
    "    print(a*b)\n",
    "elif o == '/' and b!=0:\n",
    "    print(a/b)\n",
    "elif o == '/' and b == 0:\n",
    "    print(\"The value of b cannot be zero\")\n",
    "else:\n",
    "    print(\"Invalid operator\")\n",
    "        "
   ]
  },
  {
   "cell_type": "code",
   "execution_count": null,
   "id": "4341fd6f",
   "metadata": {},
   "outputs": [],
   "source": [
    "# practise"
   ]
  },
  {
   "cell_type": "code",
   "execution_count": null,
   "id": "83be8f8a",
   "metadata": {},
   "outputs": [],
   "source": [
    "\n"
   ]
  }
 ],
 "metadata": {
  "kernelspec": {
   "display_name": "Python 3 (ipykernel)",
   "language": "python",
   "name": "python3"
  },
  "language_info": {
   "codemirror_mode": {
    "name": "ipython",
    "version": 3
   },
   "file_extension": ".py",
   "mimetype": "text/x-python",
   "name": "python",
   "nbconvert_exporter": "python",
   "pygments_lexer": "ipython3",
   "version": "3.9.12"
  }
 },
 "nbformat": 4,
 "nbformat_minor": 5
}
