{
 "cells": [
  {
   "cell_type": "code",
   "execution_count": 1,
   "id": "e54d4a51",
   "metadata": {},
   "outputs": [
    {
     "name": "stdout",
     "output_type": "stream",
     "text": [
      "Hello World\n"
     ]
    }
   ],
   "source": [
    "#class\n",
    "class Hello:  \n",
    "    print(\"Hello World\")\n",
    "#object\n",
    "obj =Hello()   "
   ]
  },
  {
   "cell_type": "code",
   "execution_count": 3,
   "id": "b7d4c0dc",
   "metadata": {},
   "outputs": [
    {
     "name": "stdout",
     "output_type": "stream",
     "text": [
      "Hello World\n"
     ]
    }
   ],
   "source": [
    "class Hello:\n",
    "    @staticmethod\n",
    "    def hello():\n",
    "        print(\"Hello World\")\n",
    "obj = Hello()\n",
    "obj.hello()"
   ]
  },
  {
   "cell_type": "code",
   "execution_count": 4,
   "id": "9c4cc20b",
   "metadata": {},
   "outputs": [
    {
     "name": "stdout",
     "output_type": "stream",
     "text": [
      "Hello World\n"
     ]
    }
   ],
   "source": [
    "class Hello:\n",
    "    def hello(self):\n",
    "        print(\"Hello World\")\n",
    "obj = Hello()\n",
    "obj.hello()"
   ]
  },
  {
   "cell_type": "code",
   "execution_count": 8,
   "id": "85b1f4ca",
   "metadata": {},
   "outputs": [
    {
     "name": "stdout",
     "output_type": "stream",
     "text": [
      "50\n",
      "100\n"
     ]
    }
   ],
   "source": [
    "class Cal:\n",
    "    @staticmethod\n",
    "    def area():\n",
    "        l = 10\n",
    "        b = 5\n",
    "        return l*b\n",
    "        \n",
    "    def volume(self,l,b,h):\n",
    "        v= l*b*h\n",
    "        return v\n",
    "    \n",
    "obj = Cal()\n",
    "print(obj.area())\n",
    "\n",
    "print(obj.volume(10,5,2))"
   ]
  },
  {
   "cell_type": "code",
   "execution_count": 9,
   "id": "eeb9b356",
   "metadata": {},
   "outputs": [
    {
     "name": "stdout",
     "output_type": "stream",
     "text": [
      "50\n",
      "100\n"
     ]
    }
   ],
   "source": [
    "class Cal:\n",
    "   \n",
    "    def area(self):\n",
    "        l = 10\n",
    "        b = 5\n",
    "        return l*b\n",
    "        \n",
    "    def volume(self,l,b,h):\n",
    "        v= l*b*h\n",
    "        return v\n",
    "    \n",
    "obj = Cal()\n",
    "print(obj.area())\n",
    "\n",
    "print(obj.volume(10,5,2))"
   ]
  },
  {
   "cell_type": "code",
   "execution_count": 13,
   "id": "1cc4eab3",
   "metadata": {},
   "outputs": [
    {
     "name": "stdout",
     "output_type": "stream",
     "text": [
      "10\n",
      "100\n"
     ]
    }
   ],
   "source": [
    "class Area:\n",
    "    def area(self,l,b):\n",
    "        return l*b\n",
    "class Volume:        \n",
    "    def volume(self,l,b,h):\n",
    "        return l*b*h\n",
    "    \n",
    "obj = Area()\n",
    "obj1 = Volume()\n",
    "print(obj.area(5,2))\n",
    "print(obj1.volume(10,5,2))"
   ]
  },
  {
   "cell_type": "code",
   "execution_count": 14,
   "id": "b1fa414c",
   "metadata": {},
   "outputs": [
    {
     "name": "stdout",
     "output_type": "stream",
     "text": [
      "10\n",
      "100\n"
     ]
    }
   ],
   "source": [
    "class Cal:\n",
    "  \n",
    "    def area(self,l,b):\n",
    "        return l*b\n",
    "        \n",
    "    def volume(self,l,b,h):\n",
    "        v= l*b*h\n",
    "        return v\n",
    "    \n",
    "obj = Cal()\n",
    "print(obj.area(5,2))\n",
    "print(obj.volume(10,5,2c"
   ]
  },
  {
   "cell_type": "code",
   "execution_count": 18,
   "id": "cba953ea",
   "metadata": {},
   "outputs": [
    {
     "name": "stdout",
     "output_type": "stream",
     "text": [
      "50\n",
      "100\n"
     ]
    }
   ],
   "source": [
    "class Cal:\n",
    "    def __init__(self,l,b,h):\n",
    "        self.l = l\n",
    "        self.b = b\n",
    "        self.h = h\n",
    "    \n",
    "    def area(self):\n",
    "        return self.l*self.b    \n",
    "    def volume(self):\n",
    "        v= self.l*self.b*self.h\n",
    "        return v\n",
    "    \n",
    "obj = Cal(10,5,2)\n",
    "print(obj.area())\n",
    "print(obj.volume())"
   ]
  },
  {
   "cell_type": "code",
   "execution_count": 1,
   "id": "c134c5bb",
   "metadata": {},
   "outputs": [
    {
     "name": "stdout",
     "output_type": "stream",
     "text": [
      "Enter l :20\n",
      "Enter b :5\n",
      "Enter h :2\n",
      "100\n",
      "200\n"
     ]
    }
   ],
   "source": [
    "class Cal:\n",
    "    def __init__(self):\n",
    "        self.l = int(input(\"Enter l :\"))\n",
    "        self.b = int(input(\"Enter b :\"))\n",
    "        self.h = int(input(\"Enter h :\"))\n",
    "    \n",
    "    def area(self):\n",
    "        return self.l*self.b    \n",
    "    def volume(self):\n",
    "        v= self.l*self.b*self.h\n",
    "        return v\n",
    "    \n",
    "obj = Cal()\n",
    "print(obj.area())\n",
    "print(obj.volume())"
   ]
  },
  {
   "cell_type": "markdown",
   "id": "5b561838",
   "metadata": {},
   "source": [
    "# Inheritence"
   ]
  },
  {
   "cell_type": "code",
   "execution_count": null,
   "id": "97a35271",
   "metadata": {},
   "outputs": [],
   "source": [
    "# parent class\n",
    "class A:\n",
    "    pass\n",
    "# child class\n",
    "class B(A):\n",
    "    pass\n",
    "\n",
    "obj = B()\n"
   ]
  },
  {
   "cell_type": "code",
   "execution_count": 5,
   "id": "983c0fe2",
   "metadata": {},
   "outputs": [
    {
     "name": "stdout",
     "output_type": "stream",
     "text": [
      "Enter Name: Ram\n",
      "Enter age: 30\n",
      "Hello I am Ram. I am 30\n"
     ]
    }
   ],
   "source": [
    "class A:\n",
    "    def __init__(self):\n",
    "        self.name = input(\"Enter Name: \")\n",
    "        self.age = int(input(\"Enter age: \"))\n",
    "class B(A):\n",
    "    def info(self):\n",
    "        print(f\"Hello I am {self.name}. I am {self.age}\")\n",
    "\n",
    "obj = B()\n",
    "obj.info()"
   ]
  },
  {
   "cell_type": "code",
   "execution_count": 4,
   "id": "a86e56b6",
   "metadata": {},
   "outputs": [
    {
     "name": "stdout",
     "output_type": "stream",
     "text": [
      "Enter Name: Bijay\n",
      "Enter age: 25\n",
      "Hello I am Bijay. I am 25\n",
      "('Bijay', 25)\n"
     ]
    }
   ],
   "source": [
    "class A:\n",
    "    def __init__(self):\n",
    "        self.name = input(\"Enter Name: \")\n",
    "        self.age = int(input(\"Enter age: \"))\n",
    "        \n",
    "    def infos(self):\n",
    "        return self.name,self.age\n",
    "    \n",
    "class B(A):\n",
    "    def info(self):\n",
    "        print(f\"Hello I am {self.name}. I am {self.age}\")\n",
    "\n",
    "obj = B()\n",
    "obj.info()\n",
    "print(obj.infos())"
   ]
  },
  {
   "cell_type": "code",
   "execution_count": 7,
   "id": "07580ccf",
   "metadata": {},
   "outputs": [
    {
     "name": "stdout",
     "output_type": "stream",
     "text": [
      "Enter Name: Bijay Tharu\n",
      "Enter age: 24\n",
      "Hello I am Bijay Tharu. I am 24\n",
      "('Bijay Tharu', 24)\n"
     ]
    }
   ],
   "source": [
    "class A:\n",
    "    def __init__(self,name,age):\n",
    "        #public members\n",
    "        self.name = name\n",
    "        self.age = age\n",
    "        \n",
    "    def infos(self):\n",
    "        return self.name,self.age\n",
    "    \n",
    "class B(A):\n",
    "    def info(self):\n",
    "        print(f\"Hello I am {self.name}. I am {self.age}\")\n",
    "        \n",
    "name = input(\"Enter Name: \")\n",
    "age = int(input(\"Enter age: \"))\n",
    "\n",
    "obj = B(name,age)\n",
    "obj.info()\n",
    "print(obj.infos())"
   ]
  },
  {
   "cell_type": "code",
   "execution_count": 12,
   "id": "143d1fa1",
   "metadata": {},
   "outputs": [
    {
     "name": "stdout",
     "output_type": "stream",
     "text": [
      "Enter Name: coder\n",
      "Enter age: 34\n",
      "Enter add: ktm\n",
      "Hello I am coder. I am ktm\n",
      "('coder', 'ktm')\n"
     ]
    }
   ],
   "source": [
    "class A:\n",
    "    def __init__(self,name,age):\n",
    "        #public members\n",
    "        self.name = name\n",
    "        self.age = age\n",
    "        \n",
    "    def infos(self):\n",
    "        return self.name,self.age\n",
    "    \n",
    "class B(A):\n",
    "    def __init__(self,name,age,add):\n",
    "        self.add = add\n",
    "        A.__init__(self,name,add)\n",
    "    def info(self):\n",
    "        print(f\"Hello I am {self.name}. I am {self.age}\")\n",
    "        \n",
    "name = input(\"Enter Name: \")\n",
    "age = int(input(\"Enter age: \"))\n",
    "add = input(\"Enter add: \")\n",
    "\n",
    "obj = B(name,age,add)\n",
    "obj.info()\n",
    "print(obj.infos())"
   ]
  },
  {
   "cell_type": "markdown",
   "id": "919640ab",
   "metadata": {},
   "source": [
    "# Multiple inheritance"
   ]
  },
  {
   "cell_type": "code",
   "execution_count": null,
   "id": "0f123311",
   "metadata": {},
   "outputs": [],
   "source": [
    "\n",
    "class A:\n",
    "    pass\n",
    "\n",
    "class B(A):\n",
    "    pass\n",
    "\n",
    "class C(A,B):\n",
    "    pass\n",
    "\n",
    "obj = C()"
   ]
  },
  {
   "cell_type": "code",
   "execution_count": null,
   "id": "d3daefff",
   "metadata": {},
   "outputs": [],
   "source": [
    "class A:\n",
    "    def __init__(self,name,age):\n",
    "        #public members\n",
    "        self.name = name\n",
    "        self.age = age\n",
    "        \n",
    "    def infos(self):\n",
    "        return self.name,self.age\n",
    "    \n",
    "class B(A):\n",
    "    def __init__(self,name,age):\n",
    "        self.age = age\n",
    "        A.__init__(self,name)\n",
    "        \n",
    "class C(B):\n",
    "    def __init__(self,name,age,add):\n",
    "        self.add = add\n",
    "        B.__init__(self,name,age)\n",
    "        \n",
    "    def info(self):\n",
    "        print(f\"Hello I am {self.name}. I am {self.age}\")\n",
    "        \n",
    "name = input(\"Enter Name: \")\n",
    "age = int(input(\"Enter age: \"))\n",
    "add = input(\"Enter add: \")\n",
    "\n",
    "obj = B(name,age,add)\n",
    "obj.info()\n",
    "print(obj.infos())"
   ]
  },
  {
   "cell_type": "code",
   "execution_count": null,
   "id": "a175ce54",
   "metadata": {},
   "outputs": [],
   "source": []
  }
 ],
 "metadata": {
  "kernelspec": {
   "display_name": "Python 3 (ipykernel)",
   "language": "python",
   "name": "python3"
  },
  "language_info": {
   "codemirror_mode": {
    "name": "ipython",
    "version": 3
   },
   "file_extension": ".py",
   "mimetype": "text/x-python",
   "name": "python",
   "nbconvert_exporter": "python",
   "pygments_lexer": "ipython3",
   "version": "3.10.5"
  },
  "vscode": {
   "interpreter": {
    "hash": "67e0cbc25fa4f5baaacba1240f401bc655b640f8e15cfc935dfee2e63491bdf4"
   }
  }
 },
 "nbformat": 4,
 "nbformat_minor": 5
}
