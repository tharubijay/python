{
 "cells": [
  {
   "cell_type": "code",
   "execution_count": null,
   "id": "cda68591",
   "metadata": {},
   "outputs": [],
   "source": []
  },
  {
   "cell_type": "code",
   "execution_count": null,
   "id": "078da041",
   "metadata": {},
   "outputs": [],
   "source": []
  },
  {
   "cell_type": "code",
   "execution_count": 1,
   "id": "0bbd0fc1",
   "metadata": {},
   "outputs": [],
   "source": [
    "# def function():\n",
    "#     <operation>\n",
    "# <function_name>()"
   ]
  },
  {
   "cell_type": "code",
   "execution_count": 5,
   "id": "5d3ab2d9",
   "metadata": {},
   "outputs": [
    {
     "name": "stdout",
     "output_type": "stream",
     "text": [
      "Hello World\n"
     ]
    }
   ],
   "source": [
    "def hello():\n",
    "    print(\"Hello World\")\n",
    "hello()"
   ]
  },
  {
   "cell_type": "code",
   "execution_count": 6,
   "id": "a581d23c",
   "metadata": {},
   "outputs": [
    {
     "name": "stdout",
     "output_type": "stream",
     "text": [
      "Enter l = 10\n",
      "Enter b = 5\n",
      "50\n"
     ]
    }
   ],
   "source": [
    "def area():\n",
    "    l = int(input(\"Enter l = \"))  #local variable\n",
    "    b = int(input(\"Enter b = \"))  #local variable\n",
    "    a = l*b                       #local variable\n",
    "    print(a)\n",
    "area()"
   ]
  },
  {
   "cell_type": "code",
   "execution_count": 7,
   "id": "abe35b83",
   "metadata": {},
   "outputs": [
    {
     "name": "stdout",
     "output_type": "stream",
     "text": [
      "Enter l = 50\n",
      "Enter b = 20\n",
      "1000\n"
     ]
    }
   ],
   "source": [
    "l = int(input(\"Enter l = \"))  #Global variable\n",
    "b = int(input(\"Enter b = \")) #gloabal variable\n",
    "def area():\n",
    "    a = l*b    # lcal variable\n",
    "    print(a)\n",
    "area()"
   ]
  },
  {
   "cell_type": "code",
   "execution_count": 8,
   "id": "cf5d3b15",
   "metadata": {},
   "outputs": [
    {
     "name": "stdout",
     "output_type": "stream",
     "text": [
      "Enter l = 20\n",
      "Enter b = 10\n",
      "Enter h = 15\n",
      "200\n",
      "3000\n"
     ]
    }
   ],
   "source": [
    "l = int(input(\"Enter l = \"))  #Global variable\n",
    "b = int(input(\"Enter b = \")) #gloabal variable\n",
    "h = int(input(\"Enter h = \")) #gloabal variable\n",
    "\n",
    "def area():\n",
    "    a = l*b    # lcal variable\n",
    "    print(a)\n",
    "def volume():\n",
    "    v = l*b*h\n",
    "    print(v)\n",
    "area()\n",
    "volume()"
   ]
  },
  {
   "cell_type": "code",
   "execution_count": 9,
   "id": "8d21ba04",
   "metadata": {},
   "outputs": [],
   "source": [
    "# function without argument and return type\n",
    "# function with argument and no return type\n",
    "# function without argument and return type\n",
    "# function with argument and return type"
   ]
  },
  {
   "cell_type": "code",
   "execution_count": 12,
   "id": "429210d3",
   "metadata": {},
   "outputs": [
    {
     "name": "stdout",
     "output_type": "stream",
     "text": [
      "Hello World\n"
     ]
    }
   ],
   "source": [
    "# function with argument and no return type\n",
    "\n",
    "def hello(a):#parameter\n",
    "    print(a)\n",
    "hello(\"Hello World\")  # argument"
   ]
  },
  {
   "cell_type": "code",
   "execution_count": 14,
   "id": "a2d07eb7",
   "metadata": {},
   "outputs": [
    {
     "name": "stdout",
     "output_type": "stream",
     "text": [
      "Enter l = 5\n",
      "Enter b = 3\n",
      "15\n"
     ]
    }
   ],
   "source": [
    "# function with argument and no return type\n",
    "\n",
    "def area(l,b):\n",
    "    a = l*b\n",
    "    print(a)\n",
    "l = int(input(\"Enter l = \"))\n",
    "b = int(input(\"Enter b = \")) \n",
    "area(l,b)\n"
   ]
  },
  {
   "cell_type": "code",
   "execution_count": null,
   "id": "e7940205",
   "metadata": {},
   "outputs": [],
   "source": [
    "# function with argument and no return type\n",
    "\n",
    "def area(l,b):\n",
    "    a = l*b\n",
    "    print(a)\n",
    "l = int(input(\"Enter l = \"))\n",
    "b = int(input(\"Enter b = \")) \n",
    "area(l,b)\n"
   ]
  },
  {
   "cell_type": "code",
   "execution_count": 16,
   "id": "11ba2ab7",
   "metadata": {},
   "outputs": [
    {
     "name": "stdout",
     "output_type": "stream",
     "text": [
      "Enter l = 5\n",
      "Enter b = 10\n",
      "Enter h = 15\n",
      "The area is =  50\n",
      "The volume is =  750\n"
     ]
    }
   ],
   "source": [
    "# function with argument and no return type\n",
    "\n",
    "def cal(l,b,h):\n",
    "    a = l*b\n",
    "    v = a*h\n",
    "    print(\"The area is = \",a)\n",
    "    print(\"The volume is = \",v)\n",
    "l = int(input(\"Enter l = \"))\n",
    "b = int(input(\"Enter b = \"))\n",
    "h = int(input(\"Enter h = \"))\n",
    "cal(l,b,h)\n"
   ]
  },
  {
   "cell_type": "code",
   "execution_count": 1,
   "id": "83490d12",
   "metadata": {},
   "outputs": [
    {
     "name": "stdout",
     "output_type": "stream",
     "text": [
      "Enter the value of a = 10\n",
      "Enter the value of b = 5\n",
      "Enter + - * / +\n"
     ]
    }
   ],
   "source": [
    "def add(a,b):\n",
    "    print(a+b)\n",
    "def sub(a,b):\n",
    "    print(a-b)\n",
    "def mul(a,b):\n",
    "    print(a*b)\n",
    "def div(a,b):\n",
    "    print(a/b)\n",
    "    \n",
    "def cal(a,b,o):\n",
    "    if o == '+':\n",
    "        add(a+b)\n",
    "    elif o == '-':\n",
    "        sub(a-b)\n",
    "    elif o == '*':\n",
    "        mul(a*b)\n",
    "    elif o == '/':\n",
    "        div(a/b)\n",
    "    else:\n",
    "        print(\"Invalid operator\")\n",
    "\n",
    "a = int(input(\"Enter the value of a = \"))\n",
    "b = int(input(\"Enter the value of b = \"))\n",
    "o = input(\"Enter + - * / \")\n",
    "\n",
    "    "
   ]
  },
  {
   "cell_type": "code",
   "execution_count": null,
   "id": "4df216ad",
   "metadata": {},
   "outputs": [],
   "source": [
    "# return type finction\n",
    "def hello():\n",
    "    y = x+\"Hello\"\n",
    "    return y\n",
    "print(hello(\"Hello\"))"
   ]
  },
  {
   "cell_type": "code",
   "execution_count": 2,
   "id": "a5d2e753",
   "metadata": {},
   "outputs": [
    {
     "name": "stdout",
     "output_type": "stream",
     "text": [
      "HelloWorld i am python\n"
     ]
    }
   ],
   "source": [
    "def hello(x):\n",
    "    y = x+\"World\"\n",
    "    return y\n",
    "z = hello(\"Hello\")\n",
    "print(z+\" i am python\")"
   ]
  },
  {
   "cell_type": "code",
   "execution_count": 3,
   "id": "5b56e8d7",
   "metadata": {},
   "outputs": [
    {
     "name": "stdout",
     "output_type": "stream",
     "text": [
      "Enter l = 10\n",
      "Enter b = 5\n",
      "Enter h = 15\n",
      "the volume is =  750\n"
     ]
    }
   ],
   "source": [
    "# function with argument and return type\n",
    "def area(l,b):\n",
    "    a = l*b\n",
    "    return a\n",
    "l = int(input(\"Enter l = \"))\n",
    "b = int(input(\"Enter b = \"))\n",
    "h = int(input(\"Enter h = \"))\n",
    "ar = area(l,b)\n",
    "volume = ar*h\n",
    "print(\"the volume is = \",volume)\n",
    "\n",
    "    "
   ]
  },
  {
   "cell_type": "code",
   "execution_count": 5,
   "id": "04f2b8b7",
   "metadata": {},
   "outputs": [
    {
     "name": "stdout",
     "output_type": "stream",
     "text": [
      "Enter the value of a = 10\n",
      "Enter the value of b = 20\n",
      "Enter + - * / *\n"
     ]
    }
   ],
   "source": [
    "def add(a,b):\n",
    "    return(a+b)\n",
    "def sub(a,b):\n",
    "    return(a-b)\n",
    "def mul(a,b):\n",
    "    return(a*b)\n",
    "def div(a,b):\n",
    "    return(a/b)\n",
    "    \n",
    "def cal(a,b,o):\n",
    "    if o == '+':\n",
    "        print(add(a+b))\n",
    "    elif o == '-':\n",
    "        print(sub(a-b))\n",
    "    elif o == '*':\n",
    "        print(mul(a*b))\n",
    "    elif o == '/':\n",
    "        print(div(a/b))\n",
    "    else:\n",
    "        print(\"Invalid operator\")\n",
    "\n",
    "a = int(input(\"Enter the value of a = \"))\n",
    "b = int(input(\"Enter the value of b = \"))\n",
    "o = input(\"Enter + - * / \")\n",
    "cal(a,b,o)\n",
    "    "
   ]
  },
  {
   "cell_type": "code",
   "execution_count": 1,
   "id": "2e745c93",
   "metadata": {},
   "outputs": [],
   "source": [
    "def func():\n",
    "    print(\"Hello World\")\n",
    "    func()\n",
    "func()\n"
   ]
  },
  {
   "cell_type": "code",
   "execution_count": 2,
   "id": "35f851f6",
   "metadata": {},
   "outputs": [
    {
     "name": "stdout",
     "output_type": "stream",
     "text": [
      "Enter the value of p = 1000\n",
      "Enter the value of t = 2\n",
      "Enter the value of r = 3\n",
      "The value of i =  60.0\n",
      "Enter for more call = \n",
      "Enter the value of p = 100\n",
      "Enter the value of t = 5\n",
      "Enter the value of r = 10\n",
      "The value of i =  50.0\n",
      "Enter for more call = h\n",
      "None\n"
     ]
    }
   ],
   "source": [
    "def cal():\n",
    "    p = float(input(\"Enter the value of p = \"))\n",
    "    t = float(input(\"Enter the value of t = \"))\n",
    "    r = float(input(\"Enter the value of r = \"))\n",
    "    i = p*t*r/100\n",
    "    print(\"The value of i = \",i)\n",
    "    x = input(\"Enter for more call = \")\n",
    "    if x == '':\n",
    "        cal()\n",
    "print(cal())"
   ]
  },
  {
   "cell_type": "code",
   "execution_count": 4,
   "id": "72be359e",
   "metadata": {},
   "outputs": [
    {
     "data": {
      "text/plain": [
       "120"
      ]
     },
     "execution_count": 4,
     "metadata": {},
     "output_type": "execute_result"
    }
   ],
   "source": [
    "# math function\n",
    "import math as m\n",
    "m.factorial(5)"
   ]
  },
  {
   "cell_type": "code",
   "execution_count": null,
   "id": "e700192a",
   "metadata": {},
   "outputs": [],
   "source": []
  }
 ],
 "metadata": {
  "kernelspec": {
   "display_name": "Python 3 (ipykernel)",
   "language": "python",
   "name": "python3"
  },
  "language_info": {
   "codemirror_mode": {
    "name": "ipython",
    "version": 3
   },
   "file_extension": ".py",
   "mimetype": "text/x-python",
   "name": "python",
   "nbconvert_exporter": "python",
   "pygments_lexer": "ipython3",
   "version": "3.9.12"
  }
 },
 "nbformat": 4,
 "nbformat_minor": 5
}
