{
 "cells": [
  {
   "cell_type": "code",
   "execution_count": 1,
   "id": "81b645b6",
   "metadata": {},
   "outputs": [
    {
     "data": {
      "text/plain": [
       "['Apple', 'Ball']"
      ]
     },
     "execution_count": 1,
     "metadata": {},
     "output_type": "execute_result"
    }
   ],
   "source": [
    "a = []\n",
    "a.append('Apple')\n",
    "a.append('Ball')\n",
    "a"
   ]
  },
  {
   "cell_type": "code",
   "execution_count": 2,
   "id": "a43260eb",
   "metadata": {},
   "outputs": [
    {
     "data": {
      "text/plain": [
       "['apple', 'ball', 'dog']"
      ]
     },
     "execution_count": 2,
     "metadata": {},
     "output_type": "execute_result"
    }
   ],
   "source": [
    "a = ['apple','ball']\n",
    "a.append('dog')\n",
    "a"
   ]
  },
  {
   "cell_type": "code",
   "execution_count": 6,
   "id": "6d1196de",
   "metadata": {},
   "outputs": [
    {
     "name": "stdout",
     "output_type": "stream",
     "text": [
      "Enter n = 2\n",
      "Enter x = apple\n",
      "Enter x = ball\n",
      "['apple', 'ball']\n"
     ]
    }
   ],
   "source": [
    "a = list()\n",
    "n = int(input(\"Enter n = \"))\n",
    "for i in range(n):\n",
    "    x = input(\"Enter x = \")\n",
    "    a.append(x)\n",
    "print(a)"
   ]
  },
  {
   "cell_type": "code",
   "execution_count": 8,
   "id": "56078969",
   "metadata": {},
   "outputs": [
    {
     "data": {
      "text/plain": [
       "['apple', 'cat', 'ball']"
      ]
     },
     "execution_count": 8,
     "metadata": {},
     "output_type": "execute_result"
    }
   ],
   "source": [
    "a = ['apple','ball']\n",
    "a.insert(1,'cat')\n",
    "a"
   ]
  },
  {
   "cell_type": "code",
   "execution_count": 10,
   "id": "043d9625",
   "metadata": {},
   "outputs": [
    {
     "data": {
      "text/plain": [
       "['apple', 'ball', 'cat', 'dog']"
      ]
     },
     "execution_count": 10,
     "metadata": {},
     "output_type": "execute_result"
    }
   ],
   "source": [
    "a = ['apple','ball']\n",
    "b = ['cat','dog']\n",
    "a.extend(b)\n",
    "a"
   ]
  },
  {
   "cell_type": "code",
   "execution_count": 11,
   "id": "6cd1edde",
   "metadata": {},
   "outputs": [
    {
     "data": {
      "text/plain": [
       "['apple', 'cat', 'dog']"
      ]
     },
     "execution_count": 11,
     "metadata": {},
     "output_type": "execute_result"
    }
   ],
   "source": [
    "a = ['apple','ball','cat','dog']\n",
    "del a[1]\n",
    "a"
   ]
  },
  {
   "cell_type": "code",
   "execution_count": 12,
   "id": "707413c0",
   "metadata": {},
   "outputs": [
    {
     "data": {
      "text/plain": [
       "['cat', 'dog']"
      ]
     },
     "execution_count": 12,
     "metadata": {},
     "output_type": "execute_result"
    }
   ],
   "source": [
    "a = ['apple','ball','cat','dog']\n",
    "del a[0:2]\n",
    "a"
   ]
  },
  {
   "cell_type": "code",
   "execution_count": 13,
   "id": "d5d0e285",
   "metadata": {},
   "outputs": [
    {
     "data": {
      "text/plain": [
       "['apple', 'cat', 'dog']"
      ]
     },
     "execution_count": 13,
     "metadata": {},
     "output_type": "execute_result"
    }
   ],
   "source": [
    "a = ['apple','ball','cat','dog']\n",
    "a.remove('ball')\n",
    "a"
   ]
  },
  {
   "cell_type": "code",
   "execution_count": 14,
   "id": "28376b99",
   "metadata": {},
   "outputs": [
    {
     "data": {
      "text/plain": [
       "['apple', 'cat', 'dog', 'ball']"
      ]
     },
     "execution_count": 14,
     "metadata": {},
     "output_type": "execute_result"
    }
   ],
   "source": [
    "a = ['apple','ball','cat','dog','ball']\n",
    "a.remove('ball')\n",
    "a"
   ]
  },
  {
   "cell_type": "code",
   "execution_count": 16,
   "id": "5b7c24f2",
   "metadata": {},
   "outputs": [
    {
     "data": {
      "text/plain": [
       "['apple', 'cat', 'dog']"
      ]
     },
     "execution_count": 16,
     "metadata": {},
     "output_type": "execute_result"
    }
   ],
   "source": [
    "a = ['apple','ball','cat','dog','ball']\n",
    "a.count('ball')\n",
    "for i in range(2):\n",
    "    a.remove('ball')\n",
    "a"
   ]
  },
  {
   "cell_type": "code",
   "execution_count": 18,
   "id": "3e5522a1",
   "metadata": {},
   "outputs": [
    {
     "data": {
      "text/plain": [
       "2"
      ]
     },
     "execution_count": 18,
     "metadata": {},
     "output_type": "execute_result"
    }
   ],
   "source": [
    "a = ['apple','ball','cat','dog','ball']\n",
    "a.index('cat')"
   ]
  },
  {
   "cell_type": "code",
   "execution_count": 19,
   "id": "5fff3a67",
   "metadata": {},
   "outputs": [
    {
     "data": {
      "text/plain": [
       "1"
      ]
     },
     "execution_count": 19,
     "metadata": {},
     "output_type": "execute_result"
    }
   ],
   "source": [
    "a = ['apple','ball','cat','dog','ball']\n",
    "a.index('ball')"
   ]
  },
  {
   "cell_type": "code",
   "execution_count": 24,
   "id": "8581eacd",
   "metadata": {},
   "outputs": [
    {
     "name": "stdout",
     "output_type": "stream",
     "text": [
      "1\n",
      "4\n"
     ]
    }
   ],
   "source": [
    "a = ['apple','ball','cat','dog','ball']\n",
    "l = len(a)\n",
    "for i in range(l):\n",
    "    if a[i]=='ball':\n",
    "        print(i)\n"
   ]
  },
  {
   "cell_type": "code",
   "execution_count": 25,
   "id": "83696f4b",
   "metadata": {},
   "outputs": [
    {
     "name": "stdout",
     "output_type": "stream",
     "text": [
      "1\n",
      "4\n"
     ]
    },
    {
     "data": {
      "text/plain": [
       "['apple', 'ball', 'cat', 'dog', 'ball']"
      ]
     },
     "execution_count": 25,
     "metadata": {},
     "output_type": "execute_result"
    }
   ],
   "source": [
    "a = ['apple','ball','cat','dog','ball']\n",
    "l = len(a)\n",
    "for i in range(l):\n",
    "    if a[i]=='ball':\n",
    "        print(i)\n",
    "a"
   ]
  },
  {
   "cell_type": "code",
   "execution_count": 32,
   "id": "8a7aa981",
   "metadata": {},
   "outputs": [
    {
     "name": "stdout",
     "output_type": "stream",
     "text": [
      "Enter x = Ball\n",
      "Enter y = ball\n"
     ]
    },
    {
     "data": {
      "text/plain": [
       "['apple', 'ball', 'cat', 'dog', 'ball']"
      ]
     },
     "execution_count": 32,
     "metadata": {},
     "output_type": "execute_result"
    }
   ],
   "source": [
    "a = ['apple','Ball','cat','dog','Ball']\n",
    "b = []\n",
    "x = input(\"Enter x = \")\n",
    "y = input(\"Enter y = \")\n",
    "for i in a:\n",
    "    if i == x:\n",
    "        b.append(y)\n",
    "    else:\n",
    "        b.append(i)\n",
    "b\n",
    "    \n",
    "   "
   ]
  },
  {
   "cell_type": "code",
   "execution_count": 33,
   "id": "2a284cd8",
   "metadata": {},
   "outputs": [
    {
     "name": "stdout",
     "output_type": "stream",
     "text": [
      "yes 1\n"
     ]
    }
   ],
   "source": [
    "a = ['apple','Ball','cat','dog','Ball']\n",
    "if 'apple' in a:\n",
    "    print(\"yes\",a.count('apple'))"
   ]
  },
  {
   "cell_type": "code",
   "execution_count": 34,
   "id": "80d1536f",
   "metadata": {},
   "outputs": [],
   "source": [
    "# wap to search any value inside a list"
   ]
  },
  {
   "cell_type": "code",
   "execution_count": 39,
   "id": "1f17f25a",
   "metadata": {},
   "outputs": [
    {
     "name": "stdout",
     "output_type": "stream",
     "text": [
      "[['Ram', 25, 'ktm'], ['Hari', 30, 'Btl'], ['Sita', 25, 'pokhara']]\n",
      "[[1, 2, 3], [4, 5, 6], [7, 8, 9]]\n",
      "['Ram', 25, 'ktm']\n"
     ]
    },
    {
     "data": {
      "text/plain": [
       "25"
      ]
     },
     "execution_count": 39,
     "metadata": {},
     "output_type": "execute_result"
    }
   ],
   "source": [
    "# List inside list (nested_list)\n",
    "\n",
    "a = [['Ram',25,'ktm'],['Hari',30,'Btl'],['Sita',25,'pokhara']]\n",
    "b = [[1,2,3],[4,5,6],[7,8,9]]\n",
    "print(a)\n",
    "print(b)\n",
    "print(a[0])\n",
    "a[0][1]"
   ]
  },
  {
   "cell_type": "code",
   "execution_count": 41,
   "id": "1b21330f",
   "metadata": {},
   "outputs": [
    {
     "name": "stdout",
     "output_type": "stream",
     "text": [
      "[['Ram', 25, 'ktm'], ['Hari', 30, 'Btl'], ['Sita', 25, 'pokhara'], ['Shyam', 30, 'bhw']]\n",
      "[[1, 2, 3], [4, 5, 6], [7, 8, 9]]\n"
     ]
    }
   ],
   "source": [
    "a = [['Ram',25,'ktm'],['Hari',30,'Btl'],['Sita',25,'pokhara']]\n",
    "b = [[1,2,3],[4,5,6],[7,8,9]]\n",
    "a.append(['Shyam',30,'bhw'])\n",
    "print(a)\n",
    "print(b)\n"
   ]
  },
  {
   "cell_type": "code",
   "execution_count": 45,
   "id": "3a4e8d61",
   "metadata": {},
   "outputs": [
    {
     "name": "stdout",
     "output_type": "stream",
     "text": [
      "[['Ram', 25, 'ktm'], ['Gita', 25, 'lalitpur'], ['Hari', 30, 'Btl'], ['Sita', 25, 'pokhara'], ['Shyam', 30, 'bhw']]\n"
     ]
    }
   ],
   "source": [
    "a = [['Ram',25,'ktm'],['Hari',30,'Btl'],['Sita',25,'pokhara']]\n",
    "a.insert(1,['Gita',25,'lalitpur'])\n",
    "a.append(['Shyam',30,'bhw'])\n",
    "print(a)\n"
   ]
  },
  {
   "cell_type": "code",
   "execution_count": 46,
   "id": "d2328561",
   "metadata": {},
   "outputs": [
    {
     "name": "stdout",
     "output_type": "stream",
     "text": [
      "['Ram', 25, 'ktm']\n",
      "['Gita', 25, 'lalitpur']\n",
      "['Hari', 30, 'Btl']\n",
      "['Sita', 25, 'pokhara']\n",
      "['Shyam', 30, 'bhw']\n"
     ]
    }
   ],
   "source": [
    "for i in a:\n",
    "    print(i)"
   ]
  },
  {
   "cell_type": "code",
   "execution_count": 51,
   "id": "03cedd5c",
   "metadata": {},
   "outputs": [
    {
     "name": "stdout",
     "output_type": "stream",
     "text": [
      "Enter name = Ram\n",
      "['Ram', 25, 'ktm']\n"
     ]
    }
   ],
   "source": [
    "a = [['Ram', 25, 'ktm'], ['Gita', 25, 'lalitpur'], ['Hari', 30, 'Btl'], ['Sita', 25, 'pokhara'], ['Shyam', 30, 'bhw']]\n",
    "search = input(\"Enter name = \")\n",
    "for i in a:\n",
    "    if search in i:\n",
    "        print(i)"
   ]
  },
  {
   "cell_type": "code",
   "execution_count": 56,
   "id": "27b086f9",
   "metadata": {},
   "outputs": [
    {
     "data": {
      "text/plain": [
       "[['Ram', 23, 'kathmandu'],\n",
       " ['Gita', 25, 'lalitpur'],\n",
       " ['gita', 30, 'Btl'],\n",
       " ['Sita', 25, 'pokhara'],\n",
       " ['Shyam', 30, 'bhw']]"
      ]
     },
     "execution_count": 56,
     "metadata": {},
     "output_type": "execute_result"
    }
   ],
   "source": [
    "a[0]=['Ram',23,'kathmandu']\n",
    "a"
   ]
  },
  {
   "cell_type": "code",
   "execution_count": 59,
   "id": "d26e1e2e",
   "metadata": {},
   "outputs": [
    {
     "data": {
      "text/plain": [
       "2"
      ]
     },
     "execution_count": 59,
     "metadata": {},
     "output_type": "execute_result"
    }
   ],
   "source": [
    "a = [['Ram', 25, 'ktm'], ['Gita', 25, 'lalitpur'], ['Hari', 30, 'Btl'], ['Sita', 25, 'pokhara'], ['Shyam', 30, 'bhw']]\n",
    "a.index(['Hari', 30, 'Btl'])"
   ]
  },
  {
   "cell_type": "code",
   "execution_count": null,
   "id": "00d10443",
   "metadata": {},
   "outputs": [],
   "source": [
    "# wap to remove duplicate data list inside list "
   ]
  },
  {
   "cell_type": "code",
   "execution_count": 54,
   "id": "e222f61d",
   "metadata": {},
   "outputs": [
    {
     "data": {
      "text/plain": [
       "[['Ram', 23, 'kathmandu'],\n",
       " ['Gita', 25, 'lalitpur'],\n",
       " ['gita', 30, 'Btl'],\n",
       " ['Sita', 25, 'pokhara'],\n",
       " ['Shyam', 30, 'bhw']]"
      ]
     },
     "execution_count": 54,
     "metadata": {},
     "output_type": "execute_result"
    }
   ],
   "source": [
    "a[2][0]='gita'\n",
    "a"
   ]
  },
  {
   "cell_type": "code",
   "execution_count": 1,
   "id": "89b5c106",
   "metadata": {},
   "outputs": [],
   "source": [
    "# wap to create a matrix\n",
    "# r = ?\n",
    "# c = ?\n",
    "# x = ?"
   ]
  },
  {
   "cell_type": "code",
   "execution_count": 3,
   "id": "7208bc03",
   "metadata": {},
   "outputs": [
    {
     "name": "stdout",
     "output_type": "stream",
     "text": [
      "Hello Bijay Welcome to my Game Zone\n",
      "Do you want to play? yes\n",
      "Okay! Let's play :)\n",
      "Do you like ice-cream ? no\n",
      "Incorrect!\n",
      "Do you play cricket ? yes\n",
      "Correct!\n",
      "Do you like football ? yes\n",
      "Incorrect!\n",
      "Hello mr. prem. Are you a virgin? yes\n",
      "Incorrect!\n",
      "You got 1 questions correct!\n",
      "You got 25.0%.\n"
     ]
    }
   ],
   "source": [
    "print(\"Hello Bijay Welcome to my Game Zone\")\n",
    "\n",
    "playing = input(\"Do you want to play? \")\n",
    "\n",
    "if playing.lower() != \"yes\":\n",
    "    quit()\n",
    "\n",
    "print(\"Okay! Let's play :)\")\n",
    "score = 0\n",
    "\n",
    "answer = input(\"Do you like ice-cream ? \")\n",
    "if answer.lower() == \"yes\":\n",
    "    print('Correct!')\n",
    "    score += 1\n",
    "else:\n",
    "    print(\"Incorrect!\")\n",
    "\n",
    "answer = input(\"Do you play cricket ? \")\n",
    "if answer.lower() == \"yes\":\n",
    "    print('Correct!')\n",
    "    score += 1\n",
    "else:\n",
    "    print(\"Incorrect!\")\n",
    "\n",
    "answer = input(\"Do you like football ? \")\n",
    "if answer.lower() == \"no\":\n",
    "    print('Correct!')\n",
    "    score += 1\n",
    "else:\n",
    "    print(\"Incorrect!\")\n",
    "\n",
    "print(\"congratulation  \" + str(score) + \" answer correct!\")\n",
    "print(\"congratulation You got \" + str((score / 3) * 100) + \"%.\")"
   ]
  },
  {
   "cell_type": "code",
   "execution_count": null,
   "id": "3711debe",
   "metadata": {},
   "outputs": [],
   "source": []
  },
  {
   "cell_type": "code",
   "execution_count": null,
   "id": "1273c571",
   "metadata": {},
   "outputs": [],
   "source": []
  }
 ],
 "metadata": {
  "kernelspec": {
   "display_name": "Python 3 (ipykernel)",
   "language": "python",
   "name": "python3"
  },
  "language_info": {
   "codemirror_mode": {
    "name": "ipython",
    "version": 3
   },
   "file_extension": ".py",
   "mimetype": "text/x-python",
   "name": "python",
   "nbconvert_exporter": "python",
   "pygments_lexer": "ipython3",
   "version": "3.9.12"
  }
 },
 "nbformat": 4,
 "nbformat_minor": 5
}
