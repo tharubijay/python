{
 "cells": [
  {
   "cell_type": "code",
   "execution_count": 1,
   "id": "c627d0f6",
   "metadata": {},
   "outputs": [],
   "source": [
    "# dictionary\n",
    "# indexed\n",
    "# Duplicate values\n",
    "# Ordered\n",
    "# Mutable\n"
   ]
  },
  {
   "cell_type": "code",
   "execution_count": 2,
   "id": "e4187afd",
   "metadata": {},
   "outputs": [],
   "source": [
    "d = dict()\n",
    "d = {}"
   ]
  },
  {
   "cell_type": "code",
   "execution_count": 3,
   "id": "f6ca1b24",
   "metadata": {},
   "outputs": [
    {
     "data": {
      "text/plain": [
       "{'a': 'apple', 'b': 'ball'}"
      ]
     },
     "execution_count": 3,
     "metadata": {},
     "output_type": "execute_result"
    }
   ],
   "source": [
    "d = {\"a\":\"apple\",\"b\":\"ball\"}\n",
    "d"
   ]
  },
  {
   "cell_type": "code",
   "execution_count": 5,
   "id": "9388bdb2",
   "metadata": {},
   "outputs": [
    {
     "data": {
      "text/plain": [
       "'apple'"
      ]
     },
     "execution_count": 5,
     "metadata": {},
     "output_type": "execute_result"
    }
   ],
   "source": [
    "d['a']"
   ]
  },
  {
   "cell_type": "code",
   "execution_count": 6,
   "id": "1c6663e3",
   "metadata": {},
   "outputs": [
    {
     "data": {
      "text/plain": [
       "{'a': 'apple', 'b': 'ball', 'A': 'apple'}"
      ]
     },
     "execution_count": 6,
     "metadata": {},
     "output_type": "execute_result"
    }
   ],
   "source": [
    "d = {\"a\":\"apple\",\"b\":\"ball\",\"A\":\"apple\"}\n",
    "d"
   ]
  },
  {
   "cell_type": "code",
   "execution_count": 7,
   "id": "3183f11d",
   "metadata": {},
   "outputs": [
    {
     "data": {
      "text/plain": [
       "{'a': 'cat', 'b': 'ball'}"
      ]
     },
     "execution_count": 7,
     "metadata": {},
     "output_type": "execute_result"
    }
   ],
   "source": [
    "d = {\"a\":\"apple\",\"b\":\"ball\",\"a\":\"cat\"}\n",
    "d"
   ]
  },
  {
   "cell_type": "code",
   "execution_count": 9,
   "id": "0ac93211",
   "metadata": {},
   "outputs": [
    {
     "data": {
      "text/plain": [
       "{'a': 'apple', 'b': 'ball', 'c': 'cat'}"
      ]
     },
     "execution_count": 9,
     "metadata": {},
     "output_type": "execute_result"
    }
   ],
   "source": [
    "d = {\"a\":\"apple\",\"b\":\"ball\"}\n",
    "d['c']=\"cat\"\n",
    "d"
   ]
  },
  {
   "cell_type": "code",
   "execution_count": 10,
   "id": "59b5439f",
   "metadata": {},
   "outputs": [
    {
     "data": {
      "text/plain": [
       "{'a': 'apple', 'b': 'Ball', 'c': 'cat'}"
      ]
     },
     "execution_count": 10,
     "metadata": {},
     "output_type": "execute_result"
    }
   ],
   "source": [
    "d = {}\n",
    "d['a'] = \"apple\"\n",
    "d['b'] = \"Ball\"\n",
    "d['c'] = \"cat\"\n",
    "d"
   ]
  },
  {
   "cell_type": "code",
   "execution_count": 11,
   "id": "8ce040e2",
   "metadata": {},
   "outputs": [
    {
     "name": "stdout",
     "output_type": "stream",
     "text": [
      "Enter n = 2\n",
      "Enter name = ram\n",
      "Enter phone = 98000123654\n",
      "Enter name = hari\n",
      "Enter phone = 86541239\n",
      "{'ram': '98000123654', 'hari': '86541239'}\n"
     ]
    }
   ],
   "source": [
    "d = {}\n",
    "n = int(input(\"Enter n = \"))\n",
    "for i in range(n):\n",
    "    name = input(\"Enter name = \")\n",
    "    phone = input(\"Enter phone = \")\n",
    "    d[name] = phone\n",
    "print(d)"
   ]
  },
  {
   "cell_type": "code",
   "execution_count": 12,
   "id": "b8f42a67",
   "metadata": {},
   "outputs": [
    {
     "name": "stdout",
     "output_type": "stream",
     "text": [
      "ram\n",
      "hari\n"
     ]
    }
   ],
   "source": [
    "d = {'ram': '98000123654', 'hari': '86541239'}\n",
    "for i in d:\n",
    "    print(i)"
   ]
  },
  {
   "cell_type": "code",
   "execution_count": 13,
   "id": "4cd055d9",
   "metadata": {},
   "outputs": [
    {
     "name": "stdout",
     "output_type": "stream",
     "text": [
      "98000123654\n",
      "86541239\n"
     ]
    }
   ],
   "source": [
    "d = {'ram': '98000123654', 'hari': '86541239'}\n",
    "for i in d.values():\n",
    "    print(i)"
   ]
  },
  {
   "cell_type": "code",
   "execution_count": 14,
   "id": "f19dc9d4",
   "metadata": {},
   "outputs": [
    {
     "name": "stdout",
     "output_type": "stream",
     "text": [
      "('ram', '98000123654')\n",
      "('hari', '86541239')\n"
     ]
    }
   ],
   "source": [
    "d = {'ram': '98000123654', 'hari': '86541239'}\n",
    "for i in d.items():\n",
    "    print(i)"
   ]
  },
  {
   "cell_type": "code",
   "execution_count": 16,
   "id": "2b168add",
   "metadata": {},
   "outputs": [
    {
     "name": "stdout",
     "output_type": "stream",
     "text": [
      "[('ram', '98000123654'), ('hari', '86541239')]\n"
     ]
    }
   ],
   "source": [
    "l = []\n",
    "d = {'ram': '98000123654', 'hari': '86541239'}\n",
    "for i in d.items():\n",
    "    l.append(i)\n",
    "print(l)"
   ]
  },
  {
   "cell_type": "code",
   "execution_count": 17,
   "id": "050b27ba",
   "metadata": {},
   "outputs": [
    {
     "data": {
      "text/plain": [
       "{'ram': '98000123654', 'hari': '86541239'}"
      ]
     },
     "execution_count": 17,
     "metadata": {},
     "output_type": "execute_result"
    }
   ],
   "source": [
    "dict(l)"
   ]
  },
  {
   "cell_type": "code",
   "execution_count": 18,
   "id": "cf8e55ed",
   "metadata": {},
   "outputs": [
    {
     "data": {
      "text/plain": [
       "{'hari': '86541239'}"
      ]
     },
     "execution_count": 18,
     "metadata": {},
     "output_type": "execute_result"
    }
   ],
   "source": [
    "d = {'ram': '98000123654', 'hari': '86541239'}\n",
    "del d['ram']  #delete\n",
    "d"
   ]
  },
  {
   "cell_type": "code",
   "execution_count": 21,
   "id": "1a77c477",
   "metadata": {},
   "outputs": [
    {
     "name": "stdout",
     "output_type": "stream",
     "text": [
      "98000123654\n",
      "{'hari': '86541239'}\n"
     ]
    }
   ],
   "source": [
    "# pop()\n",
    "d = {'ram': '98000123654', 'hari': '86541239'}\n",
    "c = d.pop('ram')\n",
    "print(c)\n",
    "print(d)\n"
   ]
  },
  {
   "cell_type": "code",
   "execution_count": 22,
   "id": "7003f036",
   "metadata": {},
   "outputs": [
    {
     "data": {
      "text/plain": [
       "{'Ram': ['984563145', '9847542996'], 'shyam': ['806934505', '9825408894']}"
      ]
     },
     "execution_count": 22,
     "metadata": {},
     "output_type": "execute_result"
    }
   ],
   "source": [
    "# list inside dictionary\n",
    "d = {'Ram': ['984563145','9847542996'],'shyam':['806934505','9825408894']}\n",
    "d"
   ]
  },
  {
   "cell_type": "code",
   "execution_count": 24,
   "id": "8e166f80",
   "metadata": {},
   "outputs": [
    {
     "name": "stdout",
     "output_type": "stream",
     "text": [
      "Enter n = 2\n",
      "Enter name = Ram\n",
      "Enter ntc phone = 9847542996\n",
      "Enter ncell phone = 9825408894\n",
      "Enter name = Hari\n",
      "Enter ntc phone = 9875463214\n",
      "Enter ncell phone = 9806984568\n",
      "{'Ram': ['9847542996', '9825408894'], 'Hari': ['9875463214', '9806984568']}\n"
     ]
    }
   ],
   "source": [
    "d = {}\n",
    "n = int(input(\"Enter n = \"))\n",
    "for i in range(n):\n",
    "    name = input(\"Enter name = \")\n",
    "    ntc_phone = input(\"Enter ntc phone = \")\n",
    "    ncell_phone = input(\"Enter ncell phone = \")\n",
    "    d[name] = [ntc_phone,ncell_phone]\n",
    "print(d)"
   ]
  },
  {
   "cell_type": "code",
   "execution_count": 26,
   "id": "1cbcfdda",
   "metadata": {},
   "outputs": [
    {
     "data": {
      "text/plain": [
       "{'Ram': ['984563145', '9847542996'],\n",
       " 'shyam': ['806934505', '9825408894'],\n",
       " 'Hari': ['986574258', '9875644252']}"
      ]
     },
     "execution_count": 26,
     "metadata": {},
     "output_type": "execute_result"
    }
   ],
   "source": [
    "d = {'Ram': ['984563145','9847542996'],'shyam':['806934505','9825408894']}\n",
    "d['Hari']= ['986574258','9875644252']\n",
    "d"
   ]
  },
  {
   "cell_type": "code",
   "execution_count": 27,
   "id": "fcc7cdc0",
   "metadata": {},
   "outputs": [
    {
     "data": {
      "text/plain": [
       "{'Ram': ['984563145', '9847542996', '9875644252'],\n",
       " 'shyam': ['806934505', '9825408894']}"
      ]
     },
     "execution_count": 27,
     "metadata": {},
     "output_type": "execute_result"
    }
   ],
   "source": [
    "d = {'Ram': ['984563145','9847542996'],'shyam':['806934505','9825408894']}\n",
    "d['Ram'].append('9875644252')\n",
    "d"
   ]
  },
  {
   "cell_type": "code",
   "execution_count": 28,
   "id": "2c23f615",
   "metadata": {},
   "outputs": [
    {
     "data": {
      "text/plain": [
       "{'Ram': ['9847542996'], 'shyam': ['806934505', '9825408894']}"
      ]
     },
     "execution_count": 28,
     "metadata": {},
     "output_type": "execute_result"
    }
   ],
   "source": [
    "d = {'Ram': ['984563145','9847542996'],'shyam':['806934505','9825408894']}\n",
    "del d['Ram'][0]\n",
    "d"
   ]
  },
  {
   "cell_type": "code",
   "execution_count": 31,
   "id": "3527d65a",
   "metadata": {},
   "outputs": [
    {
     "data": {
      "text/plain": [
       "{'Name': ['Ram', 'Shyam', 'Hari'],\n",
       " 'Age': [25, 30, 35],\n",
       " 'Add': ['Kathmandu', 'Butwal', 'Pokhara']}"
      ]
     },
     "execution_count": 31,
     "metadata": {},
     "output_type": "execute_result"
    }
   ],
   "source": [
    "d = {'Name':['Ram','Shyam','Hari'],'Age':[25,30,35],'Add':['Kathmandu','Butwal','Pokhara']}\n",
    "d"
   ]
  },
  {
   "cell_type": "code",
   "execution_count": 33,
   "id": "58f890c3",
   "metadata": {},
   "outputs": [
    {
     "name": "stdout",
     "output_type": "stream",
     "text": [
      "{'Name': ['Ram', 'Shyam', 'Hari', 'Gita'], 'Age': [25, 30, 35, '20'], 'Add': ['Kathmandu', 'Butwal', 'Pokhara', 'Lalitpur']}\n"
     ]
    }
   ],
   "source": [
    "d = {'Name':['Ram','Shyam','Hari'],'Age':[25,30,35],'Add':['Kathmandu','Butwal','Pokhara']}\n",
    "d['Name'].append('Gita')\n",
    "d['Age'].append('20')\n",
    "d['Add'].append('Lalitpur')\n",
    "print(d)"
   ]
  },
  {
   "cell_type": "code",
   "execution_count": 36,
   "id": "a60cfd27",
   "metadata": {},
   "outputs": [
    {
     "data": {
      "text/plain": [
       "[{'name': 'Ram', 'age': '25', 'add': 'Kathmandu'},\n",
       " {'name': 'Hari', 'age': '20', 'add': 'pokhara'},\n",
       " {'name': 'Shyam', 'age': '29', 'add': 'lalitpur'}]"
      ]
     },
     "execution_count": 36,
     "metadata": {},
     "output_type": "execute_result"
    }
   ],
   "source": [
    "# dict inside list\n",
    "l = [{'name':'Ram','age':'25','add':'Kathmandu'},{'name':'Hari','age':'20','add':'pokhara'},{'name':'Shyam','age':'29','add':'lalitpur'}]\n",
    "l"
   ]
  },
  {
   "cell_type": "code",
   "execution_count": 37,
   "id": "e8ca5eed",
   "metadata": {},
   "outputs": [
    {
     "name": "stdout",
     "output_type": "stream",
     "text": [
      "Enter n = 2\n",
      "Enter name = Ram\n",
      "Enter age = 20\n",
      "Enter add = ktm\n",
      "Enter name = Hari\n",
      "Enter age = 30\n",
      "Enter add = pokhara\n",
      "[{'name': 'Ram', 'age': '20', 'add': 'ktm'}, {'name': 'Hari', 'age': '30', 'add': 'pokhara'}]\n"
     ]
    }
   ],
   "source": [
    "l = []\n",
    "n = int(input(\"Enter n = \"))\n",
    "for i in range(n):\n",
    "    name = input(\"Enter name = \")\n",
    "    age = input(\"Enter age = \")\n",
    "    add = input(\"Enter add = \")\n",
    "    d = {'name':name,'age':age,'add':add}\n",
    "    l.append(d)\n",
    "print(l)"
   ]
  },
  {
   "cell_type": "code",
   "execution_count": 40,
   "id": "7d8eceef",
   "metadata": {},
   "outputs": [],
   "source": [
    "l[0]['name'] = \"sita\""
   ]
  },
  {
   "cell_type": "code",
   "execution_count": 39,
   "id": "31f453d3",
   "metadata": {},
   "outputs": [
    {
     "data": {
      "text/plain": [
       "[{'name': 'Hari', 'age': '30', 'add': 'pokhara'}]"
      ]
     },
     "execution_count": 39,
     "metadata": {},
     "output_type": "execute_result"
    }
   ],
   "source": [
    "del l[0]\n",
    "l"
   ]
  },
  {
   "cell_type": "code",
   "execution_count": 42,
   "id": "58ce17c7",
   "metadata": {},
   "outputs": [
    {
     "name": "stdout",
     "output_type": "stream",
     "text": [
      "{1: {'name': 'ram', 'grade': 'A'}, 2: {'name': 'shyam', 'grade': 'B'}, 3: {'name': 'Sita', 'grade': 'C'}}\n"
     ]
    }
   ],
   "source": [
    "# dict inside dict\n",
    "d = {1:{'name':'ram','grade':'A'},2:{'name':'shyam','grade':'B'},3:{'name':'Sita','grade':'C'}}\n",
    "print(d)"
   ]
  },
  {
   "cell_type": "code",
   "execution_count": null,
   "id": "f1c01c1c",
   "metadata": {},
   "outputs": [],
   "source": []
  }
 ],
 "metadata": {
  "kernelspec": {
   "display_name": "Python 3 (ipykernel)",
   "language": "python",
   "name": "python3"
  },
  "language_info": {
   "codemirror_mode": {
    "name": "ipython",
    "version": 3
   },
   "file_extension": ".py",
   "mimetype": "text/x-python",
   "name": "python",
   "nbconvert_exporter": "python",
   "pygments_lexer": "ipython3",
   "version": "3.9.12"
  }
 },
 "nbformat": 4,
 "nbformat_minor": 5
}
