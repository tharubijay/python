{
 "cells": [
  {
   "cell_type": "markdown",
   "id": "f77c79fe",
   "metadata": {},
   "source": [
    "# wap to search any value inside a list"
   ]
  },
  {
   "cell_type": "code",
   "execution_count": 2,
   "id": "96f605b0",
   "metadata": {},
   "outputs": [
    {
     "name": "stdout",
     "output_type": "stream",
     "text": [
      "Enter your search value : Apple\n",
      "Apple\n"
     ]
    }
   ],
   "source": [
    "a = ['Apple','Banana','Cat','Dog']\n",
    "search = input(\"Enter your search value : \")\n",
    "for i in a:\n",
    "    if search in i:\n",
    "        print(i)"
   ]
  },
  {
   "cell_type": "code",
   "execution_count": 4,
   "id": "89db3952",
   "metadata": {},
   "outputs": [
    {
     "name": "stdout",
     "output_type": "stream",
     "text": [
      "enter row : 3\n",
      "enter columns : 3\n",
      "Enter Value = 2\n",
      "Enter Value = 4\n",
      "Enter Value = 6\n",
      "Enter Value = 8\n",
      "Enter Value = 3\n",
      "Enter Value = 6\n",
      "Enter Value = 9\n",
      "Enter Value = 1\n",
      "Enter Value = 3\n",
      "2 4 6 \n",
      "8 3 6 \n",
      "9 1 3 \n"
     ]
    }
   ],
   "source": [
    "# wap to create a matrix\n",
    "# r = ?\n",
    "# c = ?\n",
    "# x = ?\n",
    "\n",
    "r = int(input(\"enter row : \"))\n",
    "c = int(input(\"enter columns : \"))\n",
    "matrix = []\n",
    "\n",
    "for i in range(r):\n",
    "    a = []\n",
    "    for j in range(c):\n",
    "        a.append(int(input(\"Enter Value = \")))\n",
    "    matrix.append(a)\n",
    "for i in range(r):\n",
    "    for j in range(c):\n",
    "        print(matrix[i][j], end = \" \")\n",
    "    print()"
   ]
  },
  {
   "cell_type": "code",
   "execution_count": 3,
   "id": "2bd951ca",
   "metadata": {},
   "outputs": [
    {
     "name": "stdout",
     "output_type": "stream",
     "text": [
      "enter row : 3\n",
      "enter columns : 3\n",
      "Enter x = 2\n",
      "Enter x = 4\n",
      "Enter x = 6\n",
      "Enter x = 8\n",
      "Enter x = 3\n",
      "Enter x = 6\n",
      "Enter x = 9\n",
      "Enter x = 1\n",
      "Enter x = 3\n"
     ]
    }
   ],
   "source": [
    "r = int(input(\"enter row : \"))\n",
    "c = int(input(\"enter columns : \"))\n",
    "matrix = []\n",
    "\n",
    "for i in range(r):\n",
    "    n = []\n",
    "    for j in range(c):\n",
    "        x = int(input(\"Enter x = \"))\n",
    "        n.append(x)\n",
    "    matrix.append(n)\n"
   ]
  },
  {
   "cell_type": "code",
   "execution_count": null,
   "id": "675574b5",
   "metadata": {},
   "outputs": [],
   "source": []
  }
 ],
 "metadata": {
  "kernelspec": {
   "display_name": "Python 3 (ipykernel)",
   "language": "python",
   "name": "python3"
  },
  "language_info": {
   "codemirror_mode": {
    "name": "ipython",
    "version": 3
   },
   "file_extension": ".py",
   "mimetype": "text/x-python",
   "name": "python",
   "nbconvert_exporter": "python",
   "pygments_lexer": "ipython3",
   "version": "3.9.12"
  }
 },
 "nbformat": 4,
 "nbformat_minor": 5
}
