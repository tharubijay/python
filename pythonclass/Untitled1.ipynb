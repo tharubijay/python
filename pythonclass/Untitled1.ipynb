{
 "cells": [
  {
   "cell_type": "code",
   "execution_count": 11,
   "id": "e2a52f59",
   "metadata": {},
   "outputs": [
    {
     "name": "stdout",
     "output_type": "stream",
     "text": [
      "enter n :4\n",
      "4 is composite number\n"
     ]
    }
   ],
   "source": [
    "# wap to detect the given no is prime or composite\n",
    "# prime = 2,3,5,7,11,13,17,19\n",
    "# composite = 4,6,8,10,12,14,16,18\n",
    "\n",
    "\n",
    "n = int(input(\"enter n :\"))\n",
    "if n>=2:   \n",
    "    for i in range(2,n):\n",
    "        if n%i==0:\n",
    "            print(n,\"is composite number\")\n",
    "            break\n",
    "    else:\n",
    "        print(n,\"is prime number\")\n",
    "else:\n",
    "        print(\"number should be >=2\")\n",
    "        "
   ]
  },
  {
   "cell_type": "code",
   "execution_count": null,
   "id": "513bdde2",
   "metadata": {},
   "outputs": [],
   "source": [
    "n = int(input(\"enter n :\"))\n",
    "if n>=2:   \n",
    "    for i in range(2,n):\n",
    "        if n%i==0:\n",
    "            print(n,\"is composite number\")\n",
    "            break\n",
    "    else:\n",
    "        print(n,\"is prime number\")\n",
    "else:\n",
    "        print(\"number should be >=2\")"
   ]
  },
  {
   "cell_type": "code",
   "execution_count": null,
   "id": "a47b680a",
   "metadata": {},
   "outputs": [],
   "source": []
  }
 ],
 "metadata": {
  "kernelspec": {
   "display_name": "Python 3 (ipykernel)",
   "language": "python",
   "name": "python3"
  },
  "language_info": {
   "codemirror_mode": {
    "name": "ipython",
    "version": 3
   },
   "file_extension": ".py",
   "mimetype": "text/x-python",
   "name": "python",
   "nbconvert_exporter": "python",
   "pygments_lexer": "ipython3",
   "version": "3.9.12"
  }
 },
 "nbformat": 4,
 "nbformat_minor": 5
}
