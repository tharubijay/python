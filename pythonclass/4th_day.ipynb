{
 "cells": [
  {
   "cell_type": "code",
   "execution_count": 8,
   "id": "e9f0b4e2",
   "metadata": {},
   "outputs": [],
   "source": [
    "# control statment\n",
    "# break\n",
    "# continue\n"
   ]
  },
  {
   "cell_type": "code",
   "execution_count": null,
   "id": "adb30343",
   "metadata": {},
   "outputs": [],
   "source": [
    "# break statement\n",
    "for i in range(20):\n",
    "    if i ==5:\n",
    "        break\n",
    "    else:\n",
    "        print(i,end =\"\")"
   ]
  },
  {
   "cell_type": "code",
   "execution_count": 3,
   "id": "a5d08cad",
   "metadata": {},
   "outputs": [
    {
     "name": "stdout",
     "output_type": "stream",
     "text": [
      "012346789"
     ]
    }
   ],
   "source": [
    "# continue statement\n",
    "for i in range(10):\n",
    "    if i ==5:\n",
    "        continue\n",
    "    else:\n",
    "        print(i,end =\"\")"
   ]
  },
  {
   "cell_type": "code",
   "execution_count": 7,
   "id": "392b5a60",
   "metadata": {},
   "outputs": [
    {
     "name": "stdout",
     "output_type": "stream",
     "text": [
      "2\n",
      "4\n",
      "6\n",
      "8\n",
      "10\n",
      "12\n",
      "14\n",
      "16\n",
      "18\n",
      "20\n"
     ]
    }
   ],
   "source": [
    "for i in range(1, 21):\n",
    "    if i%2!=0:\n",
    "        continue\n",
    "    print(i)"
   ]
  },
  {
   "cell_type": "code",
   "execution_count": 9,
   "id": "78db916b",
   "metadata": {},
   "outputs": [
    {
     "name": "stdout",
     "output_type": "stream",
     "text": [
      "H\n",
      "e\n",
      "l\n",
      "l\n",
      "o\n"
     ]
    }
   ],
   "source": [
    "# string\n",
    "a = \"Hello\"\n",
    "for i in a:\n",
    "    print(i)"
   ]
  },
  {
   "cell_type": "code",
   "execution_count": 13,
   "id": "aa5e9fa1",
   "metadata": {},
   "outputs": [
    {
     "name": "stdout",
     "output_type": "stream",
     "text": [
      "H\n",
      "e\n",
      "l\n",
      "l\n",
      "o\n"
     ]
    }
   ],
   "source": [
    "a = \"Hello\"\n",
    "for i in a:\n",
    "    print(i)\n",
    "       "
   ]
  },
  {
   "cell_type": "code",
   "execution_count": 1,
   "id": "5319f0d9",
   "metadata": {},
   "outputs": [
    {
     "name": "stdout",
     "output_type": "stream",
     "text": [
      "Hello"
     ]
    }
   ],
   "source": [
    "a = \"Hello Wolrd\"\n",
    "for i in a:\n",
    "    if i == \" \":\n",
    "        break\n",
    "    print(i,end = \"\")"
   ]
  },
  {
   "cell_type": "code",
   "execution_count": 2,
   "id": "aa57f885",
   "metadata": {},
   "outputs": [
    {
     "name": "stdout",
     "output_type": "stream",
     "text": [
      "HelloWolrd"
     ]
    }
   ],
   "source": [
    "a = \"Hello Wolrd\"\n",
    "for i in a:\n",
    "    if i == \" \":\n",
    "        continue\n",
    "    print(i,end = \"\")"
   ]
  },
  {
   "cell_type": "code",
   "execution_count": null,
   "id": "c82c6b4f",
   "metadata": {},
   "outputs": [],
   "source": [
    "# wap to detect the given no is prime or composite\n",
    "# prime = 2,3,5,7,11,13,17,19\n",
    "# composite = 4,6,8,10,12,14,16,18"
   ]
  }
 ],
 "metadata": {
  "kernelspec": {
   "display_name": "Python 3 (ipykernel)",
   "language": "python",
   "name": "python3"
  },
  "language_info": {
   "codemirror_mode": {
    "name": "ipython",
    "version": 3
   },
   "file_extension": ".py",
   "mimetype": "text/x-python",
   "name": "python",
   "nbconvert_exporter": "python",
   "pygments_lexer": "ipython3",
   "version": "3.9.12"
  }
 },
 "nbformat": 4,
 "nbformat_minor": 5
}
