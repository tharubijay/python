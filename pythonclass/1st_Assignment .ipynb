{
 "cells": [
  {
   "cell_type": "code",
   "execution_count": 1,
   "id": "99cda133",
   "metadata": {},
   "outputs": [],
   "source": [
    "# 1. write a program two create a billing system\n",
    "# name \n",
    "# price\n",
    "# qty\n",
    "# total\n",
    "# alltotal"
   ]
  },
  {
   "cell_type": "code",
   "execution_count": null,
   "id": "4ba8472e",
   "metadata": {},
   "outputs": [],
   "source": []
  },
  {
   "cell_type": "code",
   "execution_count": 1,
   "id": "01d6a79a",
   "metadata": {},
   "outputs": [
    {
     "name": "stdout",
     "output_type": "stream",
     "text": [
      "Enter Name of Custtomer = Bijay Tharu\n",
      "Enter n = 3\n",
      "Enter p_name = Aarna\n",
      "Enter your quantity = 10\n",
      "Enter price = 10000\n",
      "The totalamount is 100000\n",
      "All total amount is 100000\n",
      "Enter p_name = tiger\n",
      "Enter your quantity = 10\n",
      "Enter price = 500\n",
      "The totalamount is 5000\n",
      "All total amount is 105000\n",
      "Enter p_name = abc\n",
      "Enter your quantity = 20\n",
      "Enter price = 555\n",
      "The totalamount is 11100\n",
      "All total amount is 116100\n"
     ]
    }
   ],
   "source": [
    "a = 0\n",
    "n = int(input(\"Enter n = \"))\n",
    "name = input(\"Enter Name of Custtomer = \")\n",
    "\n",
    "for i in range(n):\n",
    "    \n",
    "    p_name = input(\"Enter p_name = \")\n",
    "    quantity = input(\"Enter your quantity = \")\n",
    "    price = input(\"Enter price = \")\n",
    "    total  = int(price) * int(quantity)\n",
    "    \n",
    "    a = a+total\n",
    "    print(\"The total amount is\", total)\n",
    "    print(\"All total amount is\", a)\n",
    "    "
   ]
  },
  {
   "cell_type": "code",
   "execution_count": 1,
   "id": "a52ba623",
   "metadata": {},
   "outputs": [
    {
     "name": "stdout",
     "output_type": "stream",
     "text": [
      "Enter your name = Ram\n",
      "Enter your Math marks: 90\n",
      "Enter your Science marks: 80\n",
      "Enter your Nepali marks85\n",
      "Enter your chemistry marks: 70\n",
      "Total marks is: 325\n",
      "Your percentage is:  81.25\n",
      "Your grade is: A\n"
     ]
    }
   ],
   "source": [
    "# 2, WAP to create a result management system\n",
    "# name \n",
    "# subjects\n",
    "# total \n",
    "# per\n",
    "# grade\n",
    "\n",
    "Name = input(\"Enter your Name = \")\n",
    "Math =int(input(\"Enter your Math marks: \"))\n",
    "Science = int(input(\"Enter your Science marks: \"))\n",
    "Nepali = int(input(\"Enter your Nepali marks: \"))\n",
    "Chemistry = int(input(\"Enter your chemistry marks: \"))\n",
    "\n",
    "total = Math+Science+Nepali+Chemistry\n",
    "per = total/4\n",
    "\n",
    "if per>=80:\n",
    "    grade = \"A\"\n",
    "elif per>=60:\n",
    "    grade = \"B\"\n",
    "elif per>=50:\n",
    "    grade = \"C\"\n",
    "elif per>=40:\n",
    "    grade = \"D\"\n",
    "else:\n",
    "    grade =\"F\" \n",
    "print(\"Total marks is:\" ,total)\n",
    "print(\"Your percentage is: \" ,per)\n",
    "print(\"Your grade is: \" +grade)"
   ]
  },
  {
   "cell_type": "code",
   "execution_count": 2,
   "id": "d15742a3",
   "metadata": {},
   "outputs": [
    {
     "name": "stdout",
     "output_type": "stream",
     "text": [
      "Enter n = 2\n",
      "Enter Name of Custtomer = bijay\n",
      "Enter p_name = apple\n",
      "Enter your quantity = 5\n",
      "Enter price = 200\n",
      "The total amount is 1000\n",
      "All total amount is 1000\n",
      "your bill is  bijay\t200\t5\t1000\n",
      "\n",
      "Enter p_name = banana\n",
      "Enter your quantity = 5\n",
      "Enter price = 100\n",
      "The total amount is 500\n",
      "All total amount is 1500\n",
      "your bill is  bijay\t200\t5\t1000\n",
      "bijay\t100\t5\t500\n",
      "\n"
     ]
    }
   ],
   "source": [
    "a = 0\n",
    "bill = str()\n",
    "n = int(input(\"Enter n = \"))\n",
    "for i in range(n):\n",
    "    \n",
    "    p_name = input(\"Enter p_name = \")\n",
    "    quantity = int(input(\"Enter your quantity = \"))\n",
    "    price = int(input(\"Enter price = \"))\n",
    "    total  = price*quantity\n",
    "    \n",
    "    a = a+total\n",
    "    bill  = bill + name+\"\\t\"+str(price)+\"\\t\"+str(quantity) + \"\\t\" + str(total)+\"\\n\"\n",
    "\n",
    "    print(\"your bill is \", bill)\n",
    "    print(\"The total amount is\", total)\n",
    "    print(\"All total amount is\", a)\n"
   ]
  },
  {
   "cell_type": "code",
   "execution_count": 4,
   "id": "32de9ca3",
   "metadata": {},
   "outputs": [
    {
     "name": "stdout",
     "output_type": "stream",
     "text": [
      "Enter n = 1\n",
      "Enter name = ram\n",
      "Enter physics = 80\n",
      "Enter chemistry = 80\n",
      "Enter math = 70\n",
      "name, physics, chemistry, math,total,grade,per\n",
      "ram\t80\t80\t70\t230\t76.66666666666667\tB\n",
      "\n"
     ]
    }
   ],
   "source": [
    "result = str()\n",
    "n = int(input(\"Enter n = \"))\n",
    "for i in range(n):\n",
    "    name = input(\"Enter name = \")\n",
    "    physics = int(input(\"Enter physics = \"))\n",
    "    chemistry = int(input(\"Enter chemistry = \"))\n",
    "    math = int(input(\"Enter math = \"))\n",
    "    total = physics+chemistry+math\n",
    "    per = total/3\n",
    "    if per>=80:\n",
    "        grade = \"A\"\n",
    "    elif per>=60:\n",
    "        grade = \"B\"\n",
    "    elif per>=45:\n",
    "        grade = \"C\"\n",
    "    else:\n",
    "        grade = \"F\"\n",
    "    result = result + name+ \"\\t\"+str(physics)+\"\\t\"+str(chemistry)+\"\\t\"+str(math)+\"\\t\"+str(total)+\"\\t\"+str(per)+\"\\t\"+str(grade)+\"\\n\"\n",
    "    \n",
    "    print('name, physics, chemistry, math,total,grade,per')\n",
    "    print(result)\n",
    "\n"
   ]
  },
  {
   "cell_type": "code",
   "execution_count": null,
   "id": "bdf674da",
   "metadata": {},
   "outputs": [],
   "source": []
  }
 ],
 "metadata": {
  "kernelspec": {
   "display_name": "Python 3 (ipykernel)",
   "language": "python",
   "name": "python3"
  },
  "language_info": {
   "codemirror_mode": {
    "name": "ipython",
    "version": 3
   },
   "file_extension": ".py",
   "mimetype": "text/x-python",
   "name": "python",
   "nbconvert_exporter": "python",
   "pygments_lexer": "ipython3",
   "version": "3.9.12"
  }
 },
 "nbformat": 4,
 "nbformat_minor": 5
}
