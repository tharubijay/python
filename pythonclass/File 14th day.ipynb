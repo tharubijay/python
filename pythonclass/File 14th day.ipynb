{
 "cells": [
  {
   "cell_type": "code",
   "execution_count": 1,
   "id": "550bf165",
   "metadata": {},
   "outputs": [],
   "source": [
    "# file = open('<file_path>','<mode>')\n",
    "# file.close()"
   ]
  },
  {
   "cell_type": "code",
   "execution_count": 2,
   "id": "228affe0",
   "metadata": {},
   "outputs": [],
   "source": [
    "# with open ('<file_name>','<mode>') as file:\n",
    "#     <opertions>"
   ]
  },
  {
   "cell_type": "code",
   "execution_count": 3,
   "id": "808a7dc8",
   "metadata": {},
   "outputs": [],
   "source": [
    "# mode\n",
    "# read -> 'r'\n",
    "# create -> 'x'\n",
    "# write -> 'w'\n",
    "# append -> 'a'\n"
   ]
  },
  {
   "cell_type": "code",
   "execution_count": 15,
   "id": "0e9445de",
   "metadata": {},
   "outputs": [
    {
     "name": "stdout",
     "output_type": "stream",
     "text": [
      "The file is already created\n"
     ]
    }
   ],
   "source": [
    "# create file\n",
    "\n",
    "try:\n",
    "    file = open('new_file.txt','x')\n",
    "    file.close()\n",
    "except:\n",
    "    print(\"The file is already created\")\n"
   ]
  },
  {
   "cell_type": "code",
   "execution_count": 13,
   "id": "28f9fc70",
   "metadata": {},
   "outputs": [
    {
     "name": "stdout",
     "output_type": "stream",
     "text": [
      "1. Hello \n",
      "2. Hello Python\n",
      "3. Hello World\n",
      "4. Hello Bijay\n",
      "5. Hello Ram\n",
      "<class 'str'>\n"
     ]
    }
   ],
   "source": [
    "# Read file\n",
    "\n",
    "file = open('new_file.txt','r')\n",
    "x = file.read()\n",
    "print(x)\n",
    "print(type(x))\n",
    "file.close()"
   ]
  },
  {
   "cell_type": "code",
   "execution_count": 14,
   "id": "4ba0df9a",
   "metadata": {},
   "outputs": [
    {
     "name": "stdout",
     "output_type": "stream",
     "text": [
      "Enter n = 3\n"
     ]
    },
    {
     "data": {
      "text/plain": [
       "'3. Hello World'"
      ]
     },
     "execution_count": 14,
     "metadata": {},
     "output_type": "execute_result"
    }
   ],
   "source": [
    "n = int(input(\"Enter n = \"))\n",
    "x.split('\\n')[n-1]"
   ]
  },
  {
   "cell_type": "code",
   "execution_count": 16,
   "id": "3c5f6af8",
   "metadata": {},
   "outputs": [],
   "source": [
    "with open('data.txt','w') as file:\n",
    "    file.write(\"Hello Python\")\n"
   ]
  },
  {
   "cell_type": "code",
   "execution_count": 18,
   "id": "1e01fbb6",
   "metadata": {},
   "outputs": [
    {
     "name": "stdout",
     "output_type": "stream",
     "text": [
      "Enter n = 2\n",
      "Enter name = ram\n",
      "Enter age = 25\n",
      "Enter address = ktm\n",
      "Enter name = hari\n",
      "Enter age = 26\n",
      "Enter address = pokhara\n"
     ]
    }
   ],
   "source": [
    "s = \"\"\n",
    "n = int(input(\"Enter n = \"))\n",
    "for i in range(n):\n",
    "    name = input(\"Enter name = \")\n",
    "    age = int(input(\"Enter age = \"))\n",
    "    add = input(\"Enter address = \")\n",
    "    s = s+f\"{name} {age} {add}\\n\"\n",
    "    \n",
    "with open('data.txt','w') as file:\n",
    "    file.write(s)\n"
   ]
  },
  {
   "cell_type": "code",
   "execution_count": 19,
   "id": "02a7fbe7",
   "metadata": {},
   "outputs": [
    {
     "data": {
      "text/plain": [
       "'C:\\\\Users\\\\pc\\\\pythonclass'"
      ]
     },
     "execution_count": 19,
     "metadata": {},
     "output_type": "execute_result"
    }
   ],
   "source": [
    "pwd"
   ]
  },
  {
   "cell_type": "code",
   "execution_count": 20,
   "id": "904996a2",
   "metadata": {},
   "outputs": [
    {
     "name": "stdout",
     "output_type": "stream",
     "text": [
      "Enter n = 2\n",
      "Enter name = wai wai\n",
      "Enter price = 200\n",
      "Enter quantity = 5\n",
      "Enter name = apple\n",
      "Enter price = 100\n",
      "Enter quantity = 3000\n",
      "wai wai 200 5 1000\n",
      "wai wai 200 5 1000\n",
      "apple 100 3000 300000\n",
      "\n"
     ]
    }
   ],
   "source": [
    "s = \"\"\n",
    "n = int(input(\"Enter n = \"))\n",
    "for i in range(n):\n",
    "    name = input(\"Enter name = \")\n",
    "    price = int(input(\"Enter price = \"))\n",
    "    quantity = int(input(\"Enter quantity = \"))\n",
    "    total = price*quantity\n",
    "    bill = s+f\"{name} {price} {quantity} {total}\\n\"\n",
    "    s = s+bill\n",
    "print(s)\n",
    "    \n",
    "with open('data.txt','w') as file:\n",
    "    file.write(s)\n"
   ]
  },
  {
   "cell_type": "code",
   "execution_count": 29,
   "id": "7d2e65b3",
   "metadata": {},
   "outputs": [],
   "source": [
    "with open('csv.write','w') as file:\n",
    "    file.write(\"Hello Python\")\n"
   ]
  },
  {
   "cell_type": "code",
   "execution_count": 22,
   "id": "5450f28e",
   "metadata": {},
   "outputs": [
    {
     "name": "stdout",
     "output_type": "stream",
     "text": [
      "Enter n = 2\n",
      "Enter name = Apple\n",
      "Enter price = 200\n",
      "Enter quantity = 20\n",
      "Enter name = Banana\n",
      "Enter price = 160\n",
      "Enter quantity = 10\n",
      "Apple,200,20,4000\n",
      "Apple,200,20,4000\n",
      "Banana,160,10,1600\n",
      "\n"
     ]
    }
   ],
   "source": [
    "# csv\n",
    "\n",
    "s = str()\n",
    "n = int(input(\"Enter n = \"))\n",
    "for i in range(n):\n",
    "    name = input(\"Enter name = \")\n",
    "    price = int(input(\"Enter price = \"))\n",
    "    quantity = int(input(\"Enter quantity = \"))\n",
    "    total = price*quantity\n",
    "    bill = s+f\"{name},{price},{quantity},{total}\\n\"\n",
    "    s = s+bill\n",
    "print(s)\n",
    "    \n",
    "with open('data.txt','w') as file:\n",
    "    file.write('name,Price,Quantity,Total\\n')\n",
    "    file.write(s)\n",
    "    \n"
   ]
  },
  {
   "cell_type": "code",
   "execution_count": 1,
   "id": "7b88dca8",
   "metadata": {},
   "outputs": [
    {
     "name": "stdout",
     "output_type": "stream",
     "text": [
      "Enter n = 2\n",
      "Enter name = Apple\n",
      "Enter price = 200\n",
      "Enter quantity = 5\n",
      "Enter name = Banana\n",
      "Enter price = 160\n",
      "Enter quantity = 12\n",
      "Apple,200,5,1000\n",
      "Banana,160,12,1920\n",
      "\n"
     ]
    }
   ],
   "source": [
    "#csv file\n",
    "s = str()\n",
    "n = int(input(\"Enter n = \"))\n",
    "for i in range(n):\n",
    "    name = input(\"Enter name = \")\n",
    "    price = int(input(\"Enter price = \"))\n",
    "    quantity = int(input(\"Enter quantity = \"))\n",
    "    total = price*quantity\n",
    "    bill = f\"{name},{price},{quantity},{total}\\n\"\n",
    "    s = s+bill\n",
    "    \n",
    "print(s)\n",
    "with open('data.csv','w') as file:\n",
    "    file.write('Name,Price,Quantity,Total\\n')\n",
    "    file.write(s)"
   ]
  },
  {
   "cell_type": "code",
   "execution_count": 2,
   "id": "0e75c81a",
   "metadata": {},
   "outputs": [
    {
     "data": {
      "text/html": [
       "<div>\n",
       "<style scoped>\n",
       "    .dataframe tbody tr th:only-of-type {\n",
       "        vertical-align: middle;\n",
       "    }\n",
       "\n",
       "    .dataframe tbody tr th {\n",
       "        vertical-align: top;\n",
       "    }\n",
       "\n",
       "    .dataframe thead th {\n",
       "        text-align: right;\n",
       "    }\n",
       "</style>\n",
       "<table border=\"1\" class=\"dataframe\">\n",
       "  <thead>\n",
       "    <tr style=\"text-align: right;\">\n",
       "      <th></th>\n",
       "      <th>Name</th>\n",
       "      <th>Price</th>\n",
       "      <th>Quantity</th>\n",
       "      <th>Total</th>\n",
       "    </tr>\n",
       "  </thead>\n",
       "  <tbody>\n",
       "    <tr>\n",
       "      <th>0</th>\n",
       "      <td>Apple</td>\n",
       "      <td>200</td>\n",
       "      <td>5</td>\n",
       "      <td>1000</td>\n",
       "    </tr>\n",
       "    <tr>\n",
       "      <th>1</th>\n",
       "      <td>Banana</td>\n",
       "      <td>160</td>\n",
       "      <td>12</td>\n",
       "      <td>1920</td>\n",
       "    </tr>\n",
       "  </tbody>\n",
       "</table>\n",
       "</div>"
      ],
      "text/plain": [
       "     Name  Price  Quantity  Total\n",
       "0   Apple    200         5   1000\n",
       "1  Banana    160        12   1920"
      ]
     },
     "execution_count": 2,
     "metadata": {},
     "output_type": "execute_result"
    }
   ],
   "source": [
    "# # pip install pandas\n",
    "\n",
    "import pandas as pd\n",
    "df = pd.read_csv('data.csv')\n",
    "df"
   ]
  },
  {
   "cell_type": "code",
   "execution_count": 4,
   "id": "de9f08a6",
   "metadata": {},
   "outputs": [],
   "source": [
    "import csv\n",
    "a = [['Name','Price','Quantity','Total'],\n",
    "     ['Momo',200,3,600],\n",
    "     ['Coke',100,2,200]]\n",
    "with open('bill.csv','w') as file:\n",
    "    x = csv.writer(file)\n",
    "    x.writerows(a)\n",
    "    \n"
   ]
  },
  {
   "cell_type": "code",
   "execution_count": 5,
   "id": "b8689978",
   "metadata": {},
   "outputs": [
    {
     "data": {
      "text/plain": [
       "[{'Name': 'Momo', 'Price': '200', 'Quantity': '3', 'Total': '600'},\n",
       " {'Name': 'Coke', 'Price': '100', 'Quantity': '2', 'Total': '200'}]"
      ]
     },
     "execution_count": 5,
     "metadata": {},
     "output_type": "execute_result"
    }
   ],
   "source": [
    "import csv\n",
    "data = []\n",
    "with open('bill.csv','r') as file:\n",
    "    reader = csv.DictReader(file)\n",
    "    for i in reader:\n",
    "        data.append(i)\n",
    "        \n",
    "data"
   ]
  },
  {
   "cell_type": "code",
   "execution_count": 6,
   "id": "410dad56",
   "metadata": {},
   "outputs": [
    {
     "name": "stdout",
     "output_type": "stream",
     "text": [
      "['Name,Price,Quantity,Total', '', 'Momo,200,3,600', '', 'Coke,100,2,200', '', '']\n"
     ]
    }
   ],
   "source": [
    "file = open('bill.csv','r')\n",
    "x = file.read()\n",
    "y = x.split('\\n')\n",
    "print(y)\n",
    "file.close()\n"
   ]
  },
  {
   "cell_type": "code",
   "execution_count": 7,
   "id": "67277435",
   "metadata": {},
   "outputs": [
    {
     "data": {
      "text/plain": [
       "[['Name', 'Price', 'Quantity', 'Total'],\n",
       " [''],\n",
       " ['Momo', '200', '3', '600'],\n",
       " [''],\n",
       " ['Coke', '100', '2', '200'],\n",
       " ['']]"
      ]
     },
     "execution_count": 7,
     "metadata": {},
     "output_type": "execute_result"
    }
   ],
   "source": [
    "all_result = []\n",
    "for i in y[0:-1]:\n",
    "    all_result.append(i.split(','))\n",
    "    \n",
    "all_result"
   ]
  },
  {
   "cell_type": "code",
   "execution_count": 9,
   "id": "17b85fce",
   "metadata": {},
   "outputs": [],
   "source": [
    "import csv\n",
    "a = ['Pizza',200,4,800]\n",
    "with open('bill.csv','a') as file:\n",
    "    x = csv.writer(file)\n",
    "    x.writerow(a)\n",
    "    \n"
   ]
  },
  {
   "cell_type": "code",
   "execution_count": null,
   "id": "8bbd93da",
   "metadata": {},
   "outputs": [],
   "source": []
  }
 ],
 "metadata": {
  "kernelspec": {
   "display_name": "Python 3 (ipykernel)",
   "language": "python",
   "name": "python3"
  },
  "language_info": {
   "codemirror_mode": {
    "name": "ipython",
    "version": 3
   },
   "file_extension": ".py",
   "mimetype": "text/x-python",
   "name": "python",
   "nbconvert_exporter": "python",
   "pygments_lexer": "ipython3",
   "version": "3.9.12"
  }
 },
 "nbformat": 4,
 "nbformat_minor": 5
}
