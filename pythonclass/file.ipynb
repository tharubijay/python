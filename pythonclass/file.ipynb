{
 "cells": [
  {
   "cell_type": "code",
   "execution_count": 1,
   "id": "c8f79b26",
   "metadata": {},
   "outputs": [],
   "source": [
    "# file = open('<file_path>','<mode>')\n",
    "# file.close()"
   ]
  },
  {
   "cell_type": "code",
   "execution_count": 2,
   "id": "4eb43671",
   "metadata": {},
   "outputs": [],
   "source": [
    "# with open('file_name>','<mode>') as file:\n",
    "#     <operations>"
   ]
  },
  {
   "cell_type": "code",
   "execution_count": 3,
   "id": "50fb166e",
   "metadata": {},
   "outputs": [],
   "source": [
    "# mode\n",
    "# read -> 'r'\n",
    "# create -> 'x'\n",
    "# write -> 'w'\n",
    "# append -> 'a'"
   ]
  },
  {
   "cell_type": "code",
   "execution_count": 6,
   "id": "2f0b25e5",
   "metadata": {},
   "outputs": [
    {
     "name": "stdout",
     "output_type": "stream",
     "text": [
      "The file is already created\n"
     ]
    }
   ],
   "source": [
    "try:\n",
    "    file = open('new_file.txt','x')\n",
    "    file.close()\n",
    "except:\n",
    "    print(\"The file is already created\")"
   ]
  },
  {
   "cell_type": "code",
   "execution_count": 10,
   "id": "a8c7fb2c",
   "metadata": {
    "scrolled": true
   },
   "outputs": [
    {
     "name": "stdout",
     "output_type": "stream",
     "text": [
      "1.Hello World\n",
      "2.Hello World\n",
      "3.Hello World\n",
      "4.Hello World\n",
      "5.Hello World\n",
      "6.Hello World\n",
      "7.Hello World\n",
      "<class 'str'>\n"
     ]
    }
   ],
   "source": [
    "#Read file\n",
    "file = open('new_file.txt','r')\n",
    "x = file.read()\n",
    "print(x)\n",
    "print(type(x))\n",
    "file.close()"
   ]
  },
  {
   "cell_type": "code",
   "execution_count": 16,
   "id": "582e5eb0",
   "metadata": {},
   "outputs": [
    {
     "name": "stdout",
     "output_type": "stream",
     "text": [
      "Enter n = 2\n"
     ]
    },
    {
     "data": {
      "text/plain": [
       "['1.Hello World',\n",
       " '2.Hello World',\n",
       " '3.Hello World',\n",
       " '4.Hello World',\n",
       " '5.Hello World',\n",
       " '6.Hello World',\n",
       " '7.Hello World']"
      ]
     },
     "execution_count": 16,
     "metadata": {},
     "output_type": "execute_result"
    }
   ],
   "source": [
    "n = int(input(\"Enter n = \"))\n",
    "x.split('\\n')[n-1]"
   ]
  },
  {
   "cell_type": "code",
   "execution_count": 17,
   "id": "dd0ee1d8",
   "metadata": {},
   "outputs": [],
   "source": [
    "with open('data.txt','w') as file:\n",
    "    file.write('Hello World')"
   ]
  },
  {
   "cell_type": "code",
   "execution_count": 18,
   "id": "bc6ed417",
   "metadata": {},
   "outputs": [
    {
     "name": "stdout",
     "output_type": "stream",
     "text": [
      "Enter n = 2\n",
      "Enter name = Ram\n",
      "age = 78\n",
      "Enter add = Kathmandu\n",
      "Enter name = Shyam\n",
      "age = 89\n",
      "Enter add = Patan\n"
     ]
    }
   ],
   "source": [
    "s = \"\"\n",
    "n = int(input(\"Enter n = \"))\n",
    "for i in range(n):\n",
    "    name = input(\"Enter name = \")\n",
    "    age = int(input(\"age = \"))\n",
    "    add = input(\"Enter add = \")\n",
    "    s = s+f\"{name} {age} {add}\\n\"\n",
    "    \n",
    "with open('data.txt','w') as file:\n",
    "    file.write(s)"
   ]
  },
  {
   "cell_type": "code",
   "execution_count": 19,
   "id": "a7e70150",
   "metadata": {},
   "outputs": [
    {
     "data": {
      "text/plain": [
       "'C:\\\\Users\\\\Aayush\\\\Class8am'"
      ]
     },
     "execution_count": 19,
     "metadata": {},
     "output_type": "execute_result"
    }
   ],
   "source": [
    "pwd"
   ]
  },
  {
   "cell_type": "code",
   "execution_count": 20,
   "id": "779a8fd0",
   "metadata": {},
   "outputs": [
    {
     "name": "stdout",
     "output_type": "stream",
     "text": [
      "Enter n = 2\n",
      "Enter name = Apple\n",
      "Enter price = 300\n",
      "Enter quantity = 2\n",
      "Enter name = Banana\n",
      "Enter price = 4\n",
      "Enter quantity = 100\n",
      "Apple 300 2 600\n",
      "Banana 4 100 400\n",
      "\n"
     ]
    }
   ],
   "source": [
    "s = str()\n",
    "n = int(input(\"Enter n = \"))\n",
    "for i in range(n):\n",
    "    name = input(\"Enter name = \")\n",
    "    price = int(input(\"Enter price = \"))\n",
    "    quantity = int(input(\"Enter quantity = \"))\n",
    "    total = price*quantity\n",
    "    bill = f\"{name} {price} {quantity} {total}\\n\"\n",
    "    s = s+bill\n",
    "    \n",
    "print(s)\n",
    "with open('data.txt','w') as file:\n",
    "    file.write(s)"
   ]
  },
  {
   "cell_type": "code",
   "execution_count": 22,
   "id": "e874a867",
   "metadata": {},
   "outputs": [
    {
     "name": "stdout",
     "output_type": "stream",
     "text": [
      "Enter n = 2\n",
      "Enter name = Momo\n",
      "Enter price = 200\n",
      "Enter quantity = 3\n",
      "Enter name = Coke\n",
      "Enter price = 100\n",
      "Enter quantity = 2\n",
      "Momo,200,3,600\n",
      "Coke,100,2,200\n",
      "\n"
     ]
    }
   ],
   "source": [
    "#csv file\n",
    "s = str()\n",
    "n = int(input(\"Enter n = \"))\n",
    "for i in range(n):\n",
    "    name = input(\"Enter name = \")\n",
    "    price = int(input(\"Enter price = \"))\n",
    "    quantity = int(input(\"Enter quantity = \"))\n",
    "    total = price*quantity\n",
    "    bill = f\"{name},{price},{quantity},{total}\\n\"\n",
    "    s = s+bill\n",
    "    \n",
    "print(s)\n",
    "with open('data.csv','w') as file:\n",
    "    file.write('Name,Price,Quantity,Total\\n')\n",
    "    file.write(s)"
   ]
  },
  {
   "cell_type": "code",
   "execution_count": 23,
   "id": "379c45e7",
   "metadata": {},
   "outputs": [
    {
     "data": {
      "text/html": [
       "<div>\n",
       "<style scoped>\n",
       "    .dataframe tbody tr th:only-of-type {\n",
       "        vertical-align: middle;\n",
       "    }\n",
       "\n",
       "    .dataframe tbody tr th {\n",
       "        vertical-align: top;\n",
       "    }\n",
       "\n",
       "    .dataframe thead th {\n",
       "        text-align: right;\n",
       "    }\n",
       "</style>\n",
       "<table border=\"1\" class=\"dataframe\">\n",
       "  <thead>\n",
       "    <tr style=\"text-align: right;\">\n",
       "      <th></th>\n",
       "      <th>Name</th>\n",
       "      <th>Price</th>\n",
       "      <th>Quantity</th>\n",
       "      <th>Total</th>\n",
       "    </tr>\n",
       "  </thead>\n",
       "  <tbody>\n",
       "    <tr>\n",
       "      <th>0</th>\n",
       "      <td>Momo</td>\n",
       "      <td>200</td>\n",
       "      <td>3</td>\n",
       "      <td>600</td>\n",
       "    </tr>\n",
       "    <tr>\n",
       "      <th>1</th>\n",
       "      <td>Coke</td>\n",
       "      <td>100</td>\n",
       "      <td>2</td>\n",
       "      <td>200</td>\n",
       "    </tr>\n",
       "  </tbody>\n",
       "</table>\n",
       "</div>"
      ],
      "text/plain": [
       "   Name  Price  Quantity  Total\n",
       "0  Momo    200         3    600\n",
       "1  Coke    100         2    200"
      ]
     },
     "execution_count": 23,
     "metadata": {},
     "output_type": "execute_result"
    }
   ],
   "source": [
    "#pip install pandas\n",
    "import pandas as pd\n",
    "df = pd.read_csv('data.csv')\n",
    "df"
   ]
  },
  {
   "cell_type": "code",
   "execution_count": 25,
   "id": "2a8ef4af",
   "metadata": {},
   "outputs": [],
   "source": [
    "import csv\n",
    "a = [['Name','Price','Quantity','Total'],\n",
    "     ['Momo',200,3,600],\n",
    "     ['Coke',100,2,200]]\n",
    "with open('bill.csv','w') as file:\n",
    "    x = csv.writer(file)\n",
    "    x.writerows(a)\n",
    "    \n"
   ]
  },
  {
   "cell_type": "code",
   "execution_count": 29,
   "id": "ba6adcf1",
   "metadata": {},
   "outputs": [
    {
     "data": {
      "text/plain": [
       "[{'Name': 'Momo', 'Price': '200', 'Quantity': '3', 'Total': '600'},\n",
       " {'Name': 'Coke', 'Price': '100', 'Quantity': '2', 'Total': '200'}]"
      ]
     },
     "execution_count": 29,
     "metadata": {},
     "output_type": "execute_result"
    }
   ],
   "source": [
    "import csv\n",
    "data = []\n",
    "with open('bill.csv','r') as file:\n",
    "    reader = csv.DictReader(file)\n",
    "    for i in reader:\n",
    "        data.append(i)\n",
    "        \n",
    "data"
   ]
  },
  {
   "cell_type": "code",
   "execution_count": 38,
   "id": "6bbdcc27",
   "metadata": {},
   "outputs": [
    {
     "name": "stdout",
     "output_type": "stream",
     "text": [
      "['Name,Price,Quantity,Total', 'Momo,200,3,600', 'Coke,100,2,200', '']\n"
     ]
    }
   ],
   "source": [
    "file = open('data.csv','r')\n",
    "x = file.read()\n",
    "y = x.split('\\n')\n",
    "print(y)\n",
    "file.close()"
   ]
  },
  {
   "cell_type": "code",
   "execution_count": 39,
   "id": "338299ef",
   "metadata": {},
   "outputs": [
    {
     "data": {
      "text/plain": [
       "[['Name', 'Price', 'Quantity', 'Total'],\n",
       " ['Momo', '200', '3', '600'],\n",
       " ['Coke', '100', '2', '200']]"
      ]
     },
     "execution_count": 39,
     "metadata": {},
     "output_type": "execute_result"
    }
   ],
   "source": [
    "all_result = []\n",
    "for i in y[0:-1]:\n",
    "    all_result.append(i.split(','))\n",
    "    \n",
    "all_result"
   ]
  },
  {
   "cell_type": "code",
   "execution_count": 40,
   "id": "ac8b237d",
   "metadata": {},
   "outputs": [],
   "source": [
    "import csv\n",
    "a = ['Pizza',200,4,800]\n",
    "with open('bill.csv','a') as file:\n",
    "    x = csv.writer(file)\n",
    "    x.writerow(a)\n",
    "    \n"
   ]
  },
  {
   "cell_type": "code",
   "execution_count": null,
   "id": "db61abae",
   "metadata": {},
   "outputs": [],
   "source": []
  }
 ],
 "metadata": {
  "kernelspec": {
   "display_name": "Python 3 (ipykernel)",
   "language": "python",
   "name": "python3"
  },
  "language_info": {
   "codemirror_mode": {
    "name": "ipython",
    "version": 3
   },
   "file_extension": ".py",
   "mimetype": "text/x-python",
   "name": "python",
   "nbconvert_exporter": "python",
   "pygments_lexer": "ipython3",
   "version": "3.9.12"
  }
 },
 "nbformat": 4,
 "nbformat_minor": 5
}
