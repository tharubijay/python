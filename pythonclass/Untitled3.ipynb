{
 "cells": [
  {
   "cell_type": "code",
   "execution_count": 1,
   "id": "827fed8b",
   "metadata": {},
   "outputs": [],
   "source": [
    "# comprehension:List, Dictionary"
   ]
  },
  {
   "cell_type": "code",
   "execution_count": 4,
   "id": "419c81d7",
   "metadata": {},
   "outputs": [
    {
     "data": {
      "text/plain": [
       "[0, 1, 2, 3, 4]"
      ]
     },
     "execution_count": 4,
     "metadata": {},
     "output_type": "execute_result"
    }
   ],
   "source": [
    "list = [i for i in range(5)]\n",
    "list"
   ]
  },
  {
   "cell_type": "code",
   "execution_count": 5,
   "id": "b46a4d66",
   "metadata": {},
   "outputs": [
    {
     "data": {
      "text/plain": [
       "[0, 2, 4, 6, 8]"
      ]
     },
     "execution_count": 5,
     "metadata": {},
     "output_type": "execute_result"
    }
   ],
   "source": [
    "list = [i for i in range(10) if i%2 ==0]\n",
    "list"
   ]
  },
  {
   "cell_type": "code",
   "execution_count": 6,
   "id": "1bfb4a61",
   "metadata": {},
   "outputs": [
    {
     "data": {
      "text/plain": [
       "[60, 58, 64, 56]"
      ]
     },
     "execution_count": 6,
     "metadata": {},
     "output_type": "execute_result"
    }
   ],
   "source": [
    "a = [25,60,45,58,75,89,64,56,43]\n",
    "l = [i for i in a if i%2 ==0]\n",
    "l"
   ]
  },
  {
   "cell_type": "code",
   "execution_count": 7,
   "id": "d61ec593",
   "metadata": {},
   "outputs": [
    {
     "data": {
      "text/plain": [
       "['Apple', 'Ball', 'Cat', 'Dog']"
      ]
     },
     "execution_count": 7,
     "metadata": {},
     "output_type": "execute_result"
    }
   ],
   "source": [
    "a = [\"Apple\",\"Ball\",\"Cat\",\"Dog\",\"fish\",\"banana\"]\n",
    "l = [x for x in a if x[0].isupper()]\n",
    "l"
   ]
  },
  {
   "cell_type": "code",
   "execution_count": 8,
   "id": "b6a197e8",
   "metadata": {},
   "outputs": [
    {
     "data": {
      "text/plain": [
       "{1: 1, 2: 4, 3: 9, 4: 16, 5: 25, 6: 36, 7: 49, 8: 64, 9: 81, 10: 100}"
      ]
     },
     "execution_count": 8,
     "metadata": {},
     "output_type": "execute_result"
    }
   ],
   "source": [
    "dictionary = {i:i**2 for i in range(1,11)}\n",
    "dictionary"
   ]
  },
  {
   "cell_type": "code",
   "execution_count": 11,
   "id": "88384807",
   "metadata": {},
   "outputs": [
    {
     "data": {
      "text/plain": [
       "{'Apple': 'apple',\n",
       " 'Ball': 'ball',\n",
       " 'Cat': 'cat',\n",
       " 'Dog': 'dog',\n",
       " 'Fish': 'fish',\n",
       " 'Banana': 'banana'}"
      ]
     },
     "execution_count": 11,
     "metadata": {},
     "output_type": "execute_result"
    }
   ],
   "source": [
    "a = [\"Apple\",\"Ball\",\"Cat\",\"Dog\",\"Fish\",\"Banana\"]\n",
    "d = {i:i.lower() for i in a}\n",
    "d"
   ]
  },
  {
   "cell_type": "code",
   "execution_count": 12,
   "id": "e7bcd05c",
   "metadata": {},
   "outputs": [
    {
     "name": "stdout",
     "output_type": "stream",
     "text": [
      "Enter value = apple\n",
      "Enter value = banana\n",
      "Enter value = ball\n",
      "Enter value = cat\n",
      "Enter value = dog\n"
     ]
    },
    {
     "data": {
      "text/plain": [
       "['apple', 'banana', 'ball', 'cat', 'dog']"
      ]
     },
     "execution_count": 12,
     "metadata": {},
     "output_type": "execute_result"
    }
   ],
   "source": [
    "l = [input(\"Enter value = \") for i in range(5)]\n",
    "l"
   ]
  },
  {
   "cell_type": "code",
   "execution_count": 13,
   "id": "7b537064",
   "metadata": {},
   "outputs": [
    {
     "name": "stdout",
     "output_type": "stream",
     "text": [
      "Enter name = Ram\n",
      "Enter phone = 9826547835\n",
      "Enter name = Hari\n",
      "Enter phone = 9847542996\n"
     ]
    },
    {
     "data": {
      "text/plain": [
       "{'Ram': 9826547835, 'Hari': 9847542996}"
      ]
     },
     "execution_count": 13,
     "metadata": {},
     "output_type": "execute_result"
    }
   ],
   "source": [
    "d = {input(\"Enter name = \"):int(input(\"Enter phone = \")) for i in range(2)}\n",
    "d"
   ]
  },
  {
   "cell_type": "code",
   "execution_count": 14,
   "id": "53f48aab",
   "metadata": {},
   "outputs": [],
   "source": [
    "# Date and time"
   ]
  },
  {
   "cell_type": "code",
   "execution_count": 16,
   "id": "14c8167c",
   "metadata": {},
   "outputs": [
    {
     "name": "stdout",
     "output_type": "stream",
     "text": [
      "Tue Nov  1 08:35:54 2022\n"
     ]
    }
   ],
   "source": [
    "import datetime\n",
    "x = datetime.datetime.now()\n",
    "print(x.strftime(\"%c\"))"
   ]
  },
  {
   "cell_type": "code",
   "execution_count": 18,
   "id": "3c1e6b40",
   "metadata": {},
   "outputs": [
    {
     "name": "stdout",
     "output_type": "stream",
     "text": [
      "11/01/22\n"
     ]
    }
   ],
   "source": [
    "import datetime\n",
    "x = datetime.datetime.now()\n",
    "print(x.strftime(\"%D\"))"
   ]
  },
  {
   "cell_type": "code",
   "execution_count": 17,
   "id": "33a7f3d5",
   "metadata": {},
   "outputs": [
    {
     "name": "stdout",
     "output_type": "stream",
     "text": [
      "2022-11-01 08:36:04.781223\n"
     ]
    }
   ],
   "source": [
    "import datetime\n",
    "x = datetime.datetime.now()\n",
    "print(x)"
   ]
  },
  {
   "cell_type": "code",
   "execution_count": 20,
   "id": "bb093013",
   "metadata": {},
   "outputs": [
    {
     "name": "stdout",
     "output_type": "stream",
     "text": [
      "Enter value: hello\n",
      "0:00:02.760402\n"
     ]
    }
   ],
   "source": [
    "import datetime\n",
    "x = datetime.datetime.now()\n",
    "value = input(\"Enter value: \")\n",
    "y = datetime.datetime.now()\n",
    "print(y-x)"
   ]
  },
  {
   "cell_type": "code",
   "execution_count": 21,
   "id": "b8daef5a",
   "metadata": {},
   "outputs": [],
   "source": [
    "# os package\n",
    "\n",
    "# listdir() mkdir() chdir() remove() rmdir() rename()"
   ]
  },
  {
   "cell_type": "code",
   "execution_count": 24,
   "id": "de302747",
   "metadata": {},
   "outputs": [
    {
     "data": {
      "text/plain": [
       "['.ipynb_checkpoints',\n",
       " '1st project quiz game',\n",
       " '1st_Assignment .ipynb',\n",
       " '1st_day.ipynb',\n",
       " '2nd_day if else statement.ipynb',\n",
       " '3rd day.ipynb',\n",
       " '4th_day.ipynb',\n",
       " '5th & 6thday while loop using break and continue.ipynb',\n",
       " '7th day String.ipynb',\n",
       " '9th day list.ipynb',\n",
       " 'bill.csv',\n",
       " 'csv.write',\n",
       " 'data.csv',\n",
       " 'data.txt',\n",
       " 'database practice.ipynb',\n",
       " 'Dictionary.ipynb',\n",
       " 'File 14th day.ipynb',\n",
       " 'file.ipynb',\n",
       " 'Function 13th day.ipynb',\n",
       " 'loop.ipynb',\n",
       " 'Mysqldatabase(16).ipynb',\n",
       " 'Mysqldatabase(17).ipynb',\n",
       " 'new file',\n",
       " 'new_file.txt',\n",
       " 'new_test.csv',\n",
       " 'new_test.json',\n",
       " 'pandas 15.ipynb',\n",
       " 'python_project',\n",
       " 'Set 12th day.ipynb',\n",
       " 'test.csv',\n",
       " 'tuple 10th day.ipynb',\n",
       " 'Untitled.ipynb',\n",
       " 'Untitled1.ipynb',\n",
       " 'Untitled2.ipynb',\n",
       " 'Untitled3.ipynb']"
      ]
     },
     "execution_count": 24,
     "metadata": {},
     "output_type": "execute_result"
    }
   ],
   "source": [
    "import os\n",
    "os.listdir()"
   ]
  },
  {
   "cell_type": "code",
   "execution_count": 26,
   "id": "93fef2c9",
   "metadata": {},
   "outputs": [],
   "source": [
    "os.chdir('new file')"
   ]
  },
  {
   "cell_type": "code",
   "execution_count": 27,
   "id": "b321b7e8",
   "metadata": {},
   "outputs": [
    {
     "data": {
      "text/plain": [
       "'C:\\\\Users\\\\pc\\\\pythonclass\\\\new file'"
      ]
     },
     "execution_count": 27,
     "metadata": {},
     "output_type": "execute_result"
    }
   ],
   "source": [
    "pwd"
   ]
  },
  {
   "cell_type": "code",
   "execution_count": 28,
   "id": "f6a3157e",
   "metadata": {},
   "outputs": [
    {
     "name": "stdout",
     "output_type": "stream",
     "text": [
      "C:\\Users\\pc\\pythonclass\n"
     ]
    }
   ],
   "source": [
    "cd .."
   ]
  },
  {
   "cell_type": "code",
   "execution_count": null,
   "id": "0d051237",
   "metadata": {},
   "outputs": [],
   "source": [
    "# trello, jira"
   ]
  }
 ],
 "metadata": {
  "kernelspec": {
   "display_name": "Python 3 (ipykernel)",
   "language": "python",
   "name": "python3"
  },
  "language_info": {
   "codemirror_mode": {
    "name": "ipython",
    "version": 3
   },
   "file_extension": ".py",
   "mimetype": "text/x-python",
   "name": "python",
   "nbconvert_exporter": "python",
   "pygments_lexer": "ipython3",
   "version": "3.9.12"
  }
 },
 "nbformat": 4,
 "nbformat_minor": 5
}
