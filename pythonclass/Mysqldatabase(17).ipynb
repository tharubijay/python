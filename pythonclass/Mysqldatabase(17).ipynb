{
 "cells": [
  {
   "cell_type": "code",
   "execution_count": 1,
   "id": "3cc37ebc",
   "metadata": {},
   "outputs": [
    {
     "name": "stdout",
     "output_type": "stream",
     "text": [
      "Collecting mysql-connector\n",
      "  Using cached mysql-connector-2.2.9.tar.gz (11.9 MB)\n",
      "Building wheels for collected packages: mysql-connector\n",
      "  Building wheel for mysql-connector (setup.py): started\n",
      "  Building wheel for mysql-connector (setup.py): finished with status 'done'\n",
      "  Created wheel for mysql-connector: filename=mysql_connector-2.2.9-cp39-cp39-win_amd64.whl size=247961 sha256=d563adec3aa4a7ef582080a44dac7e68ccbf2b8a319ef05cad8bac417b053c9f\n",
      "  Stored in directory: c:\\users\\pc\\appdata\\local\\pip\\cache\\wheels\\7b\\14\\39\\5aad423666e827dfe9a1fbcd111ac17171e7c9865d570780ce\n",
      "Successfully built mysql-connector\n",
      "Installing collected packages: mysql-connector\n",
      "Successfully installed mysql-connector-2.2.9\n"
     ]
    }
   ],
   "source": [
    "!pip install mysql-connector"
   ]
  },
  {
   "cell_type": "code",
   "execution_count": 30,
   "id": "776de37c",
   "metadata": {},
   "outputs": [],
   "source": [
    "import mysql.connector\n",
    "#importing database\n",
    "database = mysql.connector.connect(\n",
    "host=\"localhost\",\n",
    "user=\"root\",\n",
    "password=\"\"\n",
    ")\n",
    "db = database.cursor()\n",
    "\n",
    "db.execute(\"CREATE DATABASE practice\")"
   ]
  },
  {
   "cell_type": "code",
   "execution_count": 14,
   "id": "80ebbb62",
   "metadata": {},
   "outputs": [],
   "source": [
    "import mysql.connector\n",
    "#importing database\n",
    "database = mysql.connector.connect(\n",
    "host=\"localhost\",\n",
    "user=\"root\",\n",
    "password=\"\",\n",
    "database='firstdb'\n",
    ")\n",
    "db = database.cursor()\n",
    "\n"
   ]
  },
  {
   "cell_type": "code",
   "execution_count": 13,
   "id": "7d5d123a",
   "metadata": {},
   "outputs": [
    {
     "name": "stdout",
     "output_type": "stream",
     "text": [
      "(1, 'ram', 70.0, 55.0, 90.0, 70.0, 75.0, 300.0, 75.0, 'b')\n",
      "(2, 'Shyam', 75.0, 85.0, 90.0, 70.0, 75.0, 400.0, 78.0, 'b')\n"
     ]
    }
   ],
   "source": [
    "db.execute(\"SELECT * FROM student\")\n",
    "result = db.fetchall()\n",
    "for x in result:\n",
    "    print(x)"
   ]
  },
  {
   "cell_type": "code",
   "execution_count": 12,
   "id": "fe5e90a4",
   "metadata": {},
   "outputs": [
    {
     "name": "stdout",
     "output_type": "stream",
     "text": [
      "(1, 'ram', 300.0)\n",
      "(2, 'Shyam', 400.0)\n"
     ]
    }
   ],
   "source": [
    "db.execute(\"SELECT sn,name,total FROM student\")\n",
    "result = db.fetchall()\n",
    "for x in result:\n",
    "    print(x)"
   ]
  },
  {
   "cell_type": "code",
   "execution_count": 16,
   "id": "2373ab27",
   "metadata": {},
   "outputs": [],
   "source": [
    "sql = '''INSERT INTO student (sn, name, physics, chemistry, math, nepali, python, total, percentage, grade) VALUES (4, 'Sita', 80, 70, 75, 90, 70, 400, 80, 'a');'''\n",
    "db.execute(sql)\n",
    "database.commit()"
   ]
  },
  {
   "cell_type": "code",
   "execution_count": 22,
   "id": "420e547d",
   "metadata": {},
   "outputs": [
    {
     "name": "stdout",
     "output_type": "stream",
     "text": [
      "Enter your Namehari\n",
      "Enter your marks = 80\n",
      "Enter your marks = 80\n",
      "Enter your marks = 50\n",
      "Enter your marks = 75\n",
      "Enter your marks = 45\n"
     ]
    }
   ],
   "source": [
    "\n",
    "name = input(\"Enter your Name\")\n",
    "physics = int(input(\"Enter your marks = \"))\n",
    "chemistry = int(input(\"Enter your marks = \"))\n",
    "math = int(input(\"Enter your marks = \"))\n",
    "nepali = int(input(\"Enter your marks = \"))\n",
    "python = int(input(\"Enter your marks = \"))\n",
    "\n",
    "total = physics+chemistry+math+nepali+python\n",
    "percentage = total/5\n",
    "if percentage>80 or percentage ==80:\n",
    "    grade = 'A'  \n",
    "elif percentage>60 or percentage ==60:\n",
    "    grade = 'B' \n",
    "elif percentage>45 or percentage ==45:\n",
    "    grade = 'C'\n",
    "else:\n",
    "    grade = 'F'\n",
    "\n",
    "sql = f'''INSERT INTO student (name, physics, chemistry, math, nepali, python, total, percentage, grade) VALUES ('{name}','{physics}','{chemistry}','{math}','{nepali}','{python}','{total}','{percentage}','{grade}');'''\n",
    "db.execute(sql)\n",
    "database.commit()"
   ]
  },
  {
   "cell_type": "code",
   "execution_count": 23,
   "id": "549ee7a9",
   "metadata": {},
   "outputs": [],
   "source": [
    "#delete\n",
    "\n",
    "sql = \"DELETE FROM student WHERE sn = 5 \"\n",
    "db.execute(sql)\n",
    "database.commit()"
   ]
  },
  {
   "cell_type": "code",
   "execution_count": 27,
   "id": "3fb7ffcb",
   "metadata": {},
   "outputs": [],
   "source": [
    "#update\n",
    "\n",
    "sql =\"UPDATE student SET name = 'Bijay' WHERE name = 'ram'\"\n",
    "db.execute(sql)\n",
    "database.commit()"
   ]
  },
  {
   "cell_type": "code",
   "execution_count": null,
   "id": "dc3c05fb",
   "metadata": {},
   "outputs": [],
   "source": []
  }
 ],
 "metadata": {
  "kernelspec": {
   "display_name": "Python 3 (ipykernel)",
   "language": "python",
   "name": "python3"
  },
  "language_info": {
   "codemirror_mode": {
    "name": "ipython",
    "version": 3
   },
   "file_extension": ".py",
   "mimetype": "text/x-python",
   "name": "python",
   "nbconvert_exporter": "python",
   "pygments_lexer": "ipython3",
   "version": "3.9.12"
  }
 },
 "nbformat": 4,
 "nbformat_minor": 5
}
